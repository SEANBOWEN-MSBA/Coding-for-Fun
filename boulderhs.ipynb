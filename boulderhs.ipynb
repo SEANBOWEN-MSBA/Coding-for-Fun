{
 "cells": [
  {
   "cell_type": "code",
   "execution_count": 1,
   "id": "e5b2e54b",
   "metadata": {},
   "outputs": [],
   "source": [
    "import pandas as pd\n",
    "import numpy as np"
   ]
  },
  {
   "cell_type": "code",
   "execution_count": 2,
   "id": "7c8da665",
   "metadata": {},
   "outputs": [],
   "source": [
    "boulder = pd.read_csv('boulder.csv', index_col = None)"
   ]
  },
  {
   "cell_type": "code",
   "execution_count": 3,
   "id": "300b37cc",
   "metadata": {
    "scrolled": true
   },
   "outputs": [
    {
     "data": {
      "text/html": [
       "<div>\n",
       "<style scoped>\n",
       "    .dataframe tbody tr th:only-of-type {\n",
       "        vertical-align: middle;\n",
       "    }\n",
       "\n",
       "    .dataframe tbody tr th {\n",
       "        vertical-align: top;\n",
       "    }\n",
       "\n",
       "    .dataframe thead th {\n",
       "        text-align: right;\n",
       "    }\n",
       "</style>\n",
       "<table border=\"1\" class=\"dataframe\">\n",
       "  <thead>\n",
       "    <tr style=\"text-align: right;\">\n",
       "      <th></th>\n",
       "      <th>SALE.TYPE</th>\n",
       "      <th>HOME.TYPE</th>\n",
       "      <th>ADDRESS</th>\n",
       "      <th>CITY</th>\n",
       "      <th>STATE</th>\n",
       "      <th>ZIP</th>\n",
       "      <th>LIST.PRICE</th>\n",
       "      <th>BEDS</th>\n",
       "      <th>BATHS</th>\n",
       "      <th>LOCATION</th>\n",
       "      <th>...</th>\n",
       "      <th>LAST.SALE.PRICE</th>\n",
       "      <th>URL..SEE.http...www.redfin.com.buy.a.home.comparative.market.analysis.FOR.INFO.ON.PRICING.</th>\n",
       "      <th>SOURCE</th>\n",
       "      <th>LISTING.ID</th>\n",
       "      <th>ORIGINAL.SOURCE</th>\n",
       "      <th>FAVORITE</th>\n",
       "      <th>INTERESTED</th>\n",
       "      <th>LATITUDE</th>\n",
       "      <th>LONGITUDE</th>\n",
       "      <th>IS.SHORT.SALE</th>\n",
       "    </tr>\n",
       "  </thead>\n",
       "  <tbody>\n",
       "    <tr>\n",
       "      <th>0</th>\n",
       "      <td>MLS Listing</td>\n",
       "      <td>Single Family Residential</td>\n",
       "      <td>1029 Paragon Dr</td>\n",
       "      <td>Boulder</td>\n",
       "      <td>CO</td>\n",
       "      <td>80303</td>\n",
       "      <td>895000</td>\n",
       "      <td>4.0</td>\n",
       "      <td>2.50</td>\n",
       "      <td>Tr Nbc 140 148 152</td>\n",
       "      <td>...</td>\n",
       "      <td>NaN</td>\n",
       "      <td>http://www.redfin.com/CO/Boulder/1029-Paragon-...</td>\n",
       "      <td>Information and Real Estate Services, LLS (IRES)</td>\n",
       "      <td>715573</td>\n",
       "      <td>RE/MAX Alliance-Boulder</td>\n",
       "      <td>N</td>\n",
       "      <td>Y</td>\n",
       "      <td>39.977175</td>\n",
       "      <td>-105.183189</td>\n",
       "      <td>False</td>\n",
       "    </tr>\n",
       "    <tr>\n",
       "      <th>1</th>\n",
       "      <td>MLS Listing</td>\n",
       "      <td>Single Family Residential</td>\n",
       "      <td>300 S 68th St</td>\n",
       "      <td>Boulder</td>\n",
       "      <td>CO</td>\n",
       "      <td>80303</td>\n",
       "      <td>659000</td>\n",
       "      <td>3.0</td>\n",
       "      <td>2.75</td>\n",
       "      <td>South Central</td>\n",
       "      <td>...</td>\n",
       "      <td>680000.0</td>\n",
       "      <td>http://www.redfin.com/CO/Boulder/300-S-68th-St...</td>\n",
       "      <td>Information and Real Estate Services, LLS (IRES)</td>\n",
       "      <td>733562</td>\n",
       "      <td>KPK Realty, LLC</td>\n",
       "      <td>N</td>\n",
       "      <td>Y</td>\n",
       "      <td>39.980843</td>\n",
       "      <td>-105.193400</td>\n",
       "      <td>False</td>\n",
       "    </tr>\n",
       "    <tr>\n",
       "      <th>2</th>\n",
       "      <td>MLS Listing</td>\n",
       "      <td>Single Family Residential</td>\n",
       "      <td>6881 Marshall Dr</td>\n",
       "      <td>Boulder</td>\n",
       "      <td>CO</td>\n",
       "      <td>80303</td>\n",
       "      <td>1840000</td>\n",
       "      <td>4.0</td>\n",
       "      <td>3.25</td>\n",
       "      <td>Tr South Central Nbr 145 820</td>\n",
       "      <td>...</td>\n",
       "      <td>792500.0</td>\n",
       "      <td>http://www.redfin.com/CO/Boulder/6881-Marshall...</td>\n",
       "      <td>Information and Real Estate Services, LLS (IRES)</td>\n",
       "      <td>739989</td>\n",
       "      <td>RE/MAX of Boulder, Inc</td>\n",
       "      <td>N</td>\n",
       "      <td>Y</td>\n",
       "      <td>39.962634</td>\n",
       "      <td>-105.192832</td>\n",
       "      <td>False</td>\n",
       "    </tr>\n",
       "    <tr>\n",
       "      <th>3</th>\n",
       "      <td>MLS Listing</td>\n",
       "      <td>Condo/Coop</td>\n",
       "      <td>3196 Redstone Rd #16</td>\n",
       "      <td>Boulder</td>\n",
       "      <td>CO</td>\n",
       "      <td>80305</td>\n",
       "      <td>335000</td>\n",
       "      <td>2.0</td>\n",
       "      <td>1.00</td>\n",
       "      <td>Shanahan Ridge</td>\n",
       "      <td>...</td>\n",
       "      <td>NaN</td>\n",
       "      <td>http://www.redfin.com/CO/Boulder/3196-Redstone...</td>\n",
       "      <td>Information and Real Estate Services, LLS (IRES)</td>\n",
       "      <td>738836</td>\n",
       "      <td>Buyers &amp; Sellers Preferred Rty</td>\n",
       "      <td>N</td>\n",
       "      <td>Y</td>\n",
       "      <td>39.965986</td>\n",
       "      <td>-105.253603</td>\n",
       "      <td>False</td>\n",
       "    </tr>\n",
       "    <tr>\n",
       "      <th>4</th>\n",
       "      <td>MLS Listing</td>\n",
       "      <td>Townhouse</td>\n",
       "      <td>770 W Moorhead Cir Unit E</td>\n",
       "      <td>Boulder</td>\n",
       "      <td>CO</td>\n",
       "      <td>80305</td>\n",
       "      <td>299000</td>\n",
       "      <td>2.0</td>\n",
       "      <td>1.50</td>\n",
       "      <td>TANTRA CONDOS</td>\n",
       "      <td>...</td>\n",
       "      <td>220050.0</td>\n",
       "      <td>http://www.redfin.com/CO/Boulder/770-W-Moorhea...</td>\n",
       "      <td>Information and Real Estate Services, LLS (IRES)</td>\n",
       "      <td>739522</td>\n",
       "      <td>Boulder Area Realty, LLC</td>\n",
       "      <td>N</td>\n",
       "      <td>Y</td>\n",
       "      <td>39.981573</td>\n",
       "      <td>-105.238129</td>\n",
       "      <td>False</td>\n",
       "    </tr>\n",
       "  </tbody>\n",
       "</table>\n",
       "<p>5 rows × 33 columns</p>\n",
       "</div>"
      ],
      "text/plain": [
       "     SALE.TYPE                  HOME.TYPE                    ADDRESS     CITY  \\\n",
       "0  MLS Listing  Single Family Residential            1029 Paragon Dr  Boulder   \n",
       "1  MLS Listing  Single Family Residential              300 S 68th St  Boulder   \n",
       "2  MLS Listing  Single Family Residential           6881 Marshall Dr  Boulder   \n",
       "3  MLS Listing                 Condo/Coop       3196 Redstone Rd #16  Boulder   \n",
       "4  MLS Listing                  Townhouse  770 W Moorhead Cir Unit E  Boulder   \n",
       "\n",
       "  STATE    ZIP  LIST.PRICE  BEDS  BATHS                      LOCATION  ...  \\\n",
       "0    CO  80303      895000   4.0   2.50            Tr Nbc 140 148 152  ...   \n",
       "1    CO  80303      659000   3.0   2.75                 South Central  ...   \n",
       "2    CO  80303     1840000   4.0   3.25  Tr South Central Nbr 145 820  ...   \n",
       "3    CO  80305      335000   2.0   1.00                Shanahan Ridge  ...   \n",
       "4    CO  80305      299000   2.0   1.50                 TANTRA CONDOS  ...   \n",
       "\n",
       "   LAST.SALE.PRICE  \\\n",
       "0              NaN   \n",
       "1         680000.0   \n",
       "2         792500.0   \n",
       "3              NaN   \n",
       "4         220050.0   \n",
       "\n",
       "   URL..SEE.http...www.redfin.com.buy.a.home.comparative.market.analysis.FOR.INFO.ON.PRICING.  \\\n",
       "0  http://www.redfin.com/CO/Boulder/1029-Paragon-...                                            \n",
       "1  http://www.redfin.com/CO/Boulder/300-S-68th-St...                                            \n",
       "2  http://www.redfin.com/CO/Boulder/6881-Marshall...                                            \n",
       "3  http://www.redfin.com/CO/Boulder/3196-Redstone...                                            \n",
       "4  http://www.redfin.com/CO/Boulder/770-W-Moorhea...                                            \n",
       "\n",
       "                                             SOURCE  LISTING.ID  \\\n",
       "0  Information and Real Estate Services, LLS (IRES)      715573   \n",
       "1  Information and Real Estate Services, LLS (IRES)      733562   \n",
       "2  Information and Real Estate Services, LLS (IRES)      739989   \n",
       "3  Information and Real Estate Services, LLS (IRES)      738836   \n",
       "4  Information and Real Estate Services, LLS (IRES)      739522   \n",
       "\n",
       "                  ORIGINAL.SOURCE  FAVORITE INTERESTED   LATITUDE   LONGITUDE  \\\n",
       "0         RE/MAX Alliance-Boulder         N          Y  39.977175 -105.183189   \n",
       "1                 KPK Realty, LLC         N          Y  39.980843 -105.193400   \n",
       "2          RE/MAX of Boulder, Inc         N          Y  39.962634 -105.192832   \n",
       "3  Buyers & Sellers Preferred Rty         N          Y  39.965986 -105.253603   \n",
       "4        Boulder Area Realty, LLC         N          Y  39.981573 -105.238129   \n",
       "\n",
       "  IS.SHORT.SALE  \n",
       "0         False  \n",
       "1         False  \n",
       "2         False  \n",
       "3         False  \n",
       "4         False  \n",
       "\n",
       "[5 rows x 33 columns]"
      ]
     },
     "execution_count": 3,
     "metadata": {},
     "output_type": "execute_result"
    }
   ],
   "source": [
    "boulder.head()"
   ]
  },
  {
   "cell_type": "code",
   "execution_count": 4,
   "id": "0d126f72",
   "metadata": {},
   "outputs": [],
   "source": [
    "# Dropping dublicated listing ID's"
   ]
  },
  {
   "cell_type": "code",
   "execution_count": 5,
   "id": "95b9fd9f",
   "metadata": {},
   "outputs": [],
   "source": [
    "boulder.drop_duplicates(subset = 'LISTING.ID', keep = 'first', inplace = True)"
   ]
  },
  {
   "cell_type": "code",
   "execution_count": 6,
   "id": "b58c6eb1",
   "metadata": {},
   "outputs": [],
   "source": [
    "# Dropping zero variance columns "
   ]
  },
  {
   "cell_type": "code",
   "execution_count": 7,
   "id": "37b2a4f4",
   "metadata": {
    "scrolled": true
   },
   "outputs": [
    {
     "name": "stderr",
     "output_type": "stream",
     "text": [
      "/var/folders/sk/_c7fwpj9149dfqgw8kwr5m9h0000gn/T/ipykernel_79588/1359355647.py:1: FutureWarning: The default value of numeric_only in DataFrame.var is deprecated. In a future version, it will default to False. In addition, specifying 'numeric_only=None' is deprecated. Select only valid columns or specify the value of numeric_only to silence this warning.\n",
      "  boulder.var()\n"
     ]
    },
    {
     "data": {
      "text/plain": [
       "ZIP                    1.346829e+00\n",
       "LIST.PRICE             1.190155e+12\n",
       "BEDS                   2.485571e+00\n",
       "BATHS                  1.500147e+00\n",
       "SQFT                   3.289596e+06\n",
       "LOT.SIZE               3.095400e+11\n",
       "YEAR.BUILT             8.015873e+02\n",
       "PARKING.SPOTS          1.589793e+00\n",
       "DAYS.ON.MARKET         1.592156e+04\n",
       "ORIGINAL.LIST.PRICE    1.236275e+12\n",
       "LAST.SALE.PRICE        2.200249e+11\n",
       "LISTING.ID             1.681849e+12\n",
       "LATITUDE               6.420006e-04\n",
       "LONGITUDE              6.556901e-04\n",
       "IS.SHORT.SALE          0.000000e+00\n",
       "dtype: float64"
      ]
     },
     "execution_count": 7,
     "metadata": {},
     "output_type": "execute_result"
    }
   ],
   "source": [
    "boulder.var()"
   ]
  },
  {
   "cell_type": "code",
   "execution_count": 8,
   "id": "945c5827",
   "metadata": {},
   "outputs": [],
   "source": [
    "boulder.drop(columns = ['SALE.TYPE', 'CITY', 'STATE', 'STATUS', 'FAVORITE',\n",
    "                       'INTERESTED', 'IS.SHORT.SALE'], axis = 1, inplace = True)"
   ]
  },
  {
   "cell_type": "code",
   "execution_count": 9,
   "id": "4ea5cf47",
   "metadata": {},
   "outputs": [],
   "source": [
    "# Dropping irrelevant columns but keeping address just in case it's needed"
   ]
  },
  {
   "cell_type": "code",
   "execution_count": 10,
   "id": "ebbb8622",
   "metadata": {},
   "outputs": [],
   "source": [
    "boulder.drop(columns = ['NEXT.OPEN.HOUSE.DATE', 'NEXT.OPEN.HOUSE.START.TIME',\n",
    "                       'NEXT.OPEN.HOUSE.END.TIME', 'RECENT.REDUCTION.DATE',\n",
    "                       'ORIGINAL.LIST.PRICE', 'LAST.SALE.DATE', 'LAST.SALE.PRICE',\n",
    "                       'URL..SEE.http...www.redfin.com.buy.a.home.comparative.market.analysis.FOR.INFO.ON.PRICING.',\n",
    "                       'LISTING.ID', 'ORIGINAL.SOURCE','SOURCE'], axis = 1, inplace = True)"
   ]
  },
  {
   "cell_type": "code",
   "execution_count": 11,
   "id": "fa5849e6",
   "metadata": {},
   "outputs": [
    {
     "data": {
      "text/html": [
       "<div>\n",
       "<style scoped>\n",
       "    .dataframe tbody tr th:only-of-type {\n",
       "        vertical-align: middle;\n",
       "    }\n",
       "\n",
       "    .dataframe tbody tr th {\n",
       "        vertical-align: top;\n",
       "    }\n",
       "\n",
       "    .dataframe thead th {\n",
       "        text-align: right;\n",
       "    }\n",
       "</style>\n",
       "<table border=\"1\" class=\"dataframe\">\n",
       "  <thead>\n",
       "    <tr style=\"text-align: right;\">\n",
       "      <th></th>\n",
       "      <th>HOME.TYPE</th>\n",
       "      <th>ADDRESS</th>\n",
       "      <th>ZIP</th>\n",
       "      <th>LIST.PRICE</th>\n",
       "      <th>BEDS</th>\n",
       "      <th>BATHS</th>\n",
       "      <th>LOCATION</th>\n",
       "      <th>SQFT</th>\n",
       "      <th>LOT.SIZE</th>\n",
       "      <th>YEAR.BUILT</th>\n",
       "      <th>PARKING.SPOTS</th>\n",
       "      <th>PARKING.TYPE</th>\n",
       "      <th>DAYS.ON.MARKET</th>\n",
       "      <th>LATITUDE</th>\n",
       "      <th>LONGITUDE</th>\n",
       "    </tr>\n",
       "  </thead>\n",
       "  <tbody>\n",
       "    <tr>\n",
       "      <th>0</th>\n",
       "      <td>Single Family Residential</td>\n",
       "      <td>1029 Paragon Dr</td>\n",
       "      <td>80303</td>\n",
       "      <td>895000</td>\n",
       "      <td>4.0</td>\n",
       "      <td>2.50</td>\n",
       "      <td>Tr Nbc 140 148 152</td>\n",
       "      <td>3040.0</td>\n",
       "      <td>54886.0</td>\n",
       "      <td>1961.0</td>\n",
       "      <td>2</td>\n",
       "      <td>Garage</td>\n",
       "      <td>349</td>\n",
       "      <td>39.977175</td>\n",
       "      <td>-105.183189</td>\n",
       "    </tr>\n",
       "    <tr>\n",
       "      <th>1</th>\n",
       "      <td>Single Family Residential</td>\n",
       "      <td>300 S 68th St</td>\n",
       "      <td>80303</td>\n",
       "      <td>659000</td>\n",
       "      <td>3.0</td>\n",
       "      <td>2.75</td>\n",
       "      <td>South Central</td>\n",
       "      <td>2920.0</td>\n",
       "      <td>38754.0</td>\n",
       "      <td>1966.0</td>\n",
       "      <td>2</td>\n",
       "      <td>Garage</td>\n",
       "      <td>81</td>\n",
       "      <td>39.980843</td>\n",
       "      <td>-105.193400</td>\n",
       "    </tr>\n",
       "    <tr>\n",
       "      <th>2</th>\n",
       "      <td>Single Family Residential</td>\n",
       "      <td>6881 Marshall Dr</td>\n",
       "      <td>80303</td>\n",
       "      <td>1840000</td>\n",
       "      <td>4.0</td>\n",
       "      <td>3.25</td>\n",
       "      <td>Tr South Central Nbr 145 820</td>\n",
       "      <td>3845.0</td>\n",
       "      <td>46609.0</td>\n",
       "      <td>2005.0</td>\n",
       "      <td>2</td>\n",
       "      <td>Garage</td>\n",
       "      <td>19</td>\n",
       "      <td>39.962634</td>\n",
       "      <td>-105.192832</td>\n",
       "    </tr>\n",
       "    <tr>\n",
       "      <th>3</th>\n",
       "      <td>Condo/Coop</td>\n",
       "      <td>3196 Redstone Rd #16</td>\n",
       "      <td>80305</td>\n",
       "      <td>335000</td>\n",
       "      <td>2.0</td>\n",
       "      <td>1.00</td>\n",
       "      <td>Shanahan Ridge</td>\n",
       "      <td>928.0</td>\n",
       "      <td>NaN</td>\n",
       "      <td>1982.0</td>\n",
       "      <td>1</td>\n",
       "      <td>Garage</td>\n",
       "      <td>31</td>\n",
       "      <td>39.965986</td>\n",
       "      <td>-105.253603</td>\n",
       "    </tr>\n",
       "    <tr>\n",
       "      <th>4</th>\n",
       "      <td>Townhouse</td>\n",
       "      <td>770 W Moorhead Cir Unit E</td>\n",
       "      <td>80305</td>\n",
       "      <td>299000</td>\n",
       "      <td>2.0</td>\n",
       "      <td>1.50</td>\n",
       "      <td>TANTRA CONDOS</td>\n",
       "      <td>1044.0</td>\n",
       "      <td>NaN</td>\n",
       "      <td>1972.0</td>\n",
       "      <td>1</td>\n",
       "      <td>Garage</td>\n",
       "      <td>24</td>\n",
       "      <td>39.981573</td>\n",
       "      <td>-105.238129</td>\n",
       "    </tr>\n",
       "  </tbody>\n",
       "</table>\n",
       "</div>"
      ],
      "text/plain": [
       "                   HOME.TYPE                    ADDRESS    ZIP  LIST.PRICE  \\\n",
       "0  Single Family Residential            1029 Paragon Dr  80303      895000   \n",
       "1  Single Family Residential              300 S 68th St  80303      659000   \n",
       "2  Single Family Residential           6881 Marshall Dr  80303     1840000   \n",
       "3                 Condo/Coop       3196 Redstone Rd #16  80305      335000   \n",
       "4                  Townhouse  770 W Moorhead Cir Unit E  80305      299000   \n",
       "\n",
       "   BEDS  BATHS                      LOCATION    SQFT  LOT.SIZE  YEAR.BUILT  \\\n",
       "0   4.0   2.50            Tr Nbc 140 148 152  3040.0   54886.0      1961.0   \n",
       "1   3.0   2.75                 South Central  2920.0   38754.0      1966.0   \n",
       "2   4.0   3.25  Tr South Central Nbr 145 820  3845.0   46609.0      2005.0   \n",
       "3   2.0   1.00                Shanahan Ridge   928.0       NaN      1982.0   \n",
       "4   2.0   1.50                 TANTRA CONDOS  1044.0       NaN      1972.0   \n",
       "\n",
       "   PARKING.SPOTS PARKING.TYPE  DAYS.ON.MARKET   LATITUDE   LONGITUDE  \n",
       "0              2       Garage             349  39.977175 -105.183189  \n",
       "1              2       Garage              81  39.980843 -105.193400  \n",
       "2              2       Garage              19  39.962634 -105.192832  \n",
       "3              1       Garage              31  39.965986 -105.253603  \n",
       "4              1       Garage              24  39.981573 -105.238129  "
      ]
     },
     "execution_count": 11,
     "metadata": {},
     "output_type": "execute_result"
    }
   ],
   "source": [
    "boulder.head()"
   ]
  },
  {
   "cell_type": "code",
   "execution_count": 12,
   "id": "b6ebd7fb",
   "metadata": {},
   "outputs": [],
   "source": [
    "boulder['ZIP'] = pd.factorize(boulder['ZIP'])[0]"
   ]
  },
  {
   "cell_type": "code",
   "execution_count": 13,
   "id": "84e8d260",
   "metadata": {},
   "outputs": [
    {
     "data": {
      "text/html": [
       "<div>\n",
       "<style scoped>\n",
       "    .dataframe tbody tr th:only-of-type {\n",
       "        vertical-align: middle;\n",
       "    }\n",
       "\n",
       "    .dataframe tbody tr th {\n",
       "        vertical-align: top;\n",
       "    }\n",
       "\n",
       "    .dataframe thead th {\n",
       "        text-align: right;\n",
       "    }\n",
       "</style>\n",
       "<table border=\"1\" class=\"dataframe\">\n",
       "  <thead>\n",
       "    <tr style=\"text-align: right;\">\n",
       "      <th></th>\n",
       "      <th>HOME.TYPE</th>\n",
       "      <th>ADDRESS</th>\n",
       "      <th>ZIP</th>\n",
       "      <th>LIST.PRICE</th>\n",
       "      <th>BEDS</th>\n",
       "      <th>BATHS</th>\n",
       "      <th>LOCATION</th>\n",
       "      <th>SQFT</th>\n",
       "      <th>LOT.SIZE</th>\n",
       "      <th>YEAR.BUILT</th>\n",
       "      <th>PARKING.SPOTS</th>\n",
       "      <th>PARKING.TYPE</th>\n",
       "      <th>DAYS.ON.MARKET</th>\n",
       "      <th>LATITUDE</th>\n",
       "      <th>LONGITUDE</th>\n",
       "    </tr>\n",
       "  </thead>\n",
       "  <tbody>\n",
       "    <tr>\n",
       "      <th>0</th>\n",
       "      <td>Single Family Residential</td>\n",
       "      <td>1029 Paragon Dr</td>\n",
       "      <td>0</td>\n",
       "      <td>895000</td>\n",
       "      <td>4.0</td>\n",
       "      <td>2.50</td>\n",
       "      <td>Tr Nbc 140 148 152</td>\n",
       "      <td>3040.0</td>\n",
       "      <td>54886.0</td>\n",
       "      <td>1961.0</td>\n",
       "      <td>2</td>\n",
       "      <td>Garage</td>\n",
       "      <td>349</td>\n",
       "      <td>39.977175</td>\n",
       "      <td>-105.183189</td>\n",
       "    </tr>\n",
       "    <tr>\n",
       "      <th>1</th>\n",
       "      <td>Single Family Residential</td>\n",
       "      <td>300 S 68th St</td>\n",
       "      <td>0</td>\n",
       "      <td>659000</td>\n",
       "      <td>3.0</td>\n",
       "      <td>2.75</td>\n",
       "      <td>South Central</td>\n",
       "      <td>2920.0</td>\n",
       "      <td>38754.0</td>\n",
       "      <td>1966.0</td>\n",
       "      <td>2</td>\n",
       "      <td>Garage</td>\n",
       "      <td>81</td>\n",
       "      <td>39.980843</td>\n",
       "      <td>-105.193400</td>\n",
       "    </tr>\n",
       "    <tr>\n",
       "      <th>2</th>\n",
       "      <td>Single Family Residential</td>\n",
       "      <td>6881 Marshall Dr</td>\n",
       "      <td>0</td>\n",
       "      <td>1840000</td>\n",
       "      <td>4.0</td>\n",
       "      <td>3.25</td>\n",
       "      <td>Tr South Central Nbr 145 820</td>\n",
       "      <td>3845.0</td>\n",
       "      <td>46609.0</td>\n",
       "      <td>2005.0</td>\n",
       "      <td>2</td>\n",
       "      <td>Garage</td>\n",
       "      <td>19</td>\n",
       "      <td>39.962634</td>\n",
       "      <td>-105.192832</td>\n",
       "    </tr>\n",
       "    <tr>\n",
       "      <th>3</th>\n",
       "      <td>Condo/Coop</td>\n",
       "      <td>3196 Redstone Rd #16</td>\n",
       "      <td>1</td>\n",
       "      <td>335000</td>\n",
       "      <td>2.0</td>\n",
       "      <td>1.00</td>\n",
       "      <td>Shanahan Ridge</td>\n",
       "      <td>928.0</td>\n",
       "      <td>NaN</td>\n",
       "      <td>1982.0</td>\n",
       "      <td>1</td>\n",
       "      <td>Garage</td>\n",
       "      <td>31</td>\n",
       "      <td>39.965986</td>\n",
       "      <td>-105.253603</td>\n",
       "    </tr>\n",
       "    <tr>\n",
       "      <th>4</th>\n",
       "      <td>Townhouse</td>\n",
       "      <td>770 W Moorhead Cir Unit E</td>\n",
       "      <td>1</td>\n",
       "      <td>299000</td>\n",
       "      <td>2.0</td>\n",
       "      <td>1.50</td>\n",
       "      <td>TANTRA CONDOS</td>\n",
       "      <td>1044.0</td>\n",
       "      <td>NaN</td>\n",
       "      <td>1972.0</td>\n",
       "      <td>1</td>\n",
       "      <td>Garage</td>\n",
       "      <td>24</td>\n",
       "      <td>39.981573</td>\n",
       "      <td>-105.238129</td>\n",
       "    </tr>\n",
       "  </tbody>\n",
       "</table>\n",
       "</div>"
      ],
      "text/plain": [
       "                   HOME.TYPE                    ADDRESS  ZIP  LIST.PRICE  \\\n",
       "0  Single Family Residential            1029 Paragon Dr    0      895000   \n",
       "1  Single Family Residential              300 S 68th St    0      659000   \n",
       "2  Single Family Residential           6881 Marshall Dr    0     1840000   \n",
       "3                 Condo/Coop       3196 Redstone Rd #16    1      335000   \n",
       "4                  Townhouse  770 W Moorhead Cir Unit E    1      299000   \n",
       "\n",
       "   BEDS  BATHS                      LOCATION    SQFT  LOT.SIZE  YEAR.BUILT  \\\n",
       "0   4.0   2.50            Tr Nbc 140 148 152  3040.0   54886.0      1961.0   \n",
       "1   3.0   2.75                 South Central  2920.0   38754.0      1966.0   \n",
       "2   4.0   3.25  Tr South Central Nbr 145 820  3845.0   46609.0      2005.0   \n",
       "3   2.0   1.00                Shanahan Ridge   928.0       NaN      1982.0   \n",
       "4   2.0   1.50                 TANTRA CONDOS  1044.0       NaN      1972.0   \n",
       "\n",
       "   PARKING.SPOTS PARKING.TYPE  DAYS.ON.MARKET   LATITUDE   LONGITUDE  \n",
       "0              2       Garage             349  39.977175 -105.183189  \n",
       "1              2       Garage              81  39.980843 -105.193400  \n",
       "2              2       Garage              19  39.962634 -105.192832  \n",
       "3              1       Garage              31  39.965986 -105.253603  \n",
       "4              1       Garage              24  39.981573 -105.238129  "
      ]
     },
     "execution_count": 13,
     "metadata": {},
     "output_type": "execute_result"
    }
   ],
   "source": [
    "boulder.head()"
   ]
  },
  {
   "cell_type": "code",
   "execution_count": 14,
   "id": "7152e2fa",
   "metadata": {},
   "outputs": [],
   "source": [
    "boulder = boulder[boulder['HOME.TYPE'].isin(['Single Family Residential', 'Condo/Coop', 'Townhouse'])]"
   ]
  },
  {
   "cell_type": "code",
   "execution_count": 15,
   "id": "236194b2",
   "metadata": {},
   "outputs": [],
   "source": [
    "boulder = boulder[boulder['BEDS'] <= 6]"
   ]
  },
  {
   "cell_type": "code",
   "execution_count": 16,
   "id": "6b7f1572",
   "metadata": {},
   "outputs": [],
   "source": [
    "homeTypeDum = pd.get_dummies(boulder['HOME.TYPE'])"
   ]
  },
  {
   "cell_type": "code",
   "execution_count": 17,
   "id": "73ddd3bb",
   "metadata": {
    "scrolled": true
   },
   "outputs": [
    {
     "data": {
      "text/html": [
       "<div>\n",
       "<style scoped>\n",
       "    .dataframe tbody tr th:only-of-type {\n",
       "        vertical-align: middle;\n",
       "    }\n",
       "\n",
       "    .dataframe tbody tr th {\n",
       "        vertical-align: top;\n",
       "    }\n",
       "\n",
       "    .dataframe thead th {\n",
       "        text-align: right;\n",
       "    }\n",
       "</style>\n",
       "<table border=\"1\" class=\"dataframe\">\n",
       "  <thead>\n",
       "    <tr style=\"text-align: right;\">\n",
       "      <th></th>\n",
       "      <th>Condo/Coop</th>\n",
       "      <th>Single Family Residential</th>\n",
       "      <th>Townhouse</th>\n",
       "    </tr>\n",
       "  </thead>\n",
       "  <tbody>\n",
       "    <tr>\n",
       "      <th>0</th>\n",
       "      <td>0</td>\n",
       "      <td>1</td>\n",
       "      <td>0</td>\n",
       "    </tr>\n",
       "    <tr>\n",
       "      <th>1</th>\n",
       "      <td>0</td>\n",
       "      <td>1</td>\n",
       "      <td>0</td>\n",
       "    </tr>\n",
       "    <tr>\n",
       "      <th>2</th>\n",
       "      <td>0</td>\n",
       "      <td>1</td>\n",
       "      <td>0</td>\n",
       "    </tr>\n",
       "    <tr>\n",
       "      <th>3</th>\n",
       "      <td>1</td>\n",
       "      <td>0</td>\n",
       "      <td>0</td>\n",
       "    </tr>\n",
       "    <tr>\n",
       "      <th>4</th>\n",
       "      <td>0</td>\n",
       "      <td>0</td>\n",
       "      <td>1</td>\n",
       "    </tr>\n",
       "  </tbody>\n",
       "</table>\n",
       "</div>"
      ],
      "text/plain": [
       "   Condo/Coop  Single Family Residential  Townhouse\n",
       "0           0                          1          0\n",
       "1           0                          1          0\n",
       "2           0                          1          0\n",
       "3           1                          0          0\n",
       "4           0                          0          1"
      ]
     },
     "execution_count": 17,
     "metadata": {},
     "output_type": "execute_result"
    }
   ],
   "source": [
    "homeTypeDum.head()"
   ]
  },
  {
   "cell_type": "code",
   "execution_count": 18,
   "id": "962a68f4",
   "metadata": {},
   "outputs": [
    {
     "name": "stdout",
     "output_type": "stream",
     "text": [
      "<class 'pandas.core.frame.DataFrame'>\n",
      "Int64Index: 314 entries, 0 to 335\n",
      "Data columns (total 3 columns):\n",
      " #   Column                     Non-Null Count  Dtype\n",
      "---  ------                     --------------  -----\n",
      " 0   Condo/Coop                 314 non-null    uint8\n",
      " 1   Single Family Residential  314 non-null    uint8\n",
      " 2   Townhouse                  314 non-null    uint8\n",
      "dtypes: uint8(3)\n",
      "memory usage: 3.4 KB\n"
     ]
    }
   ],
   "source": [
    "homeTypeDum.info()"
   ]
  },
  {
   "cell_type": "code",
   "execution_count": 19,
   "id": "a1b101f3",
   "metadata": {},
   "outputs": [],
   "source": [
    "boulder.drop(columns ='HOME.TYPE', axis =1, inplace = True)"
   ]
  },
  {
   "cell_type": "code",
   "execution_count": 20,
   "id": "ce8b86d8",
   "metadata": {},
   "outputs": [],
   "source": [
    "boulder = pd.concat([boulder, homeTypeDum[['Condo/Coop', 'Single Family Residential']]], axis = 1)"
   ]
  },
  {
   "cell_type": "code",
   "execution_count": 21,
   "id": "b23e93e2",
   "metadata": {},
   "outputs": [
    {
     "data": {
      "text/plain": [
       "ADDRESS                       object\n",
       "ZIP                            int64\n",
       "LIST.PRICE                     int64\n",
       "BEDS                         float64\n",
       "BATHS                        float64\n",
       "LOCATION                      object\n",
       "SQFT                         float64\n",
       "LOT.SIZE                     float64\n",
       "YEAR.BUILT                   float64\n",
       "PARKING.SPOTS                  int64\n",
       "PARKING.TYPE                  object\n",
       "DAYS.ON.MARKET                 int64\n",
       "LATITUDE                     float64\n",
       "LONGITUDE                    float64\n",
       "Condo/Coop                     uint8\n",
       "Single Family Residential      uint8\n",
       "dtype: object"
      ]
     },
     "execution_count": 21,
     "metadata": {},
     "output_type": "execute_result"
    }
   ],
   "source": [
    "boulder.dtypes"
   ]
  },
  {
   "cell_type": "code",
   "execution_count": 22,
   "id": "927c7508",
   "metadata": {},
   "outputs": [],
   "source": [
    "boulder.drop(columns = 'LOCATION', axis = 1, inplace = True)"
   ]
  },
  {
   "cell_type": "code",
   "execution_count": 23,
   "id": "b76a1bea",
   "metadata": {},
   "outputs": [
    {
     "data": {
      "text/plain": [
       "ADDRESS                       0\n",
       "ZIP                           0\n",
       "LIST.PRICE                    0\n",
       "BEDS                          0\n",
       "BATHS                         1\n",
       "SQFT                          0\n",
       "LOT.SIZE                     94\n",
       "YEAR.BUILT                    0\n",
       "PARKING.SPOTS                 0\n",
       "PARKING.TYPE                 30\n",
       "DAYS.ON.MARKET                0\n",
       "LATITUDE                      0\n",
       "LONGITUDE                     0\n",
       "Condo/Coop                    0\n",
       "Single Family Residential     0\n",
       "dtype: int64"
      ]
     },
     "execution_count": 23,
     "metadata": {},
     "output_type": "execute_result"
    }
   ],
   "source": [
    "boulder.isna().sum()"
   ]
  },
  {
   "cell_type": "code",
   "execution_count": 24,
   "id": "1aa6d106",
   "metadata": {},
   "outputs": [],
   "source": [
    "boulder['BATHS'].fillna(value = 0, inplace = True)"
   ]
  },
  {
   "cell_type": "code",
   "execution_count": 25,
   "id": "d59c36bd",
   "metadata": {},
   "outputs": [],
   "source": [
    "import matplotlib.pyplot as plt"
   ]
  },
  {
   "cell_type": "code",
   "execution_count": 26,
   "id": "9e888097",
   "metadata": {
    "scrolled": true
   },
   "outputs": [
    {
     "data": {
      "text/plain": [
       "(array([112.,  64.,  49.,  39.,  27.,  13.,   6.,   2.,   1.,   1.]),\n",
       " array([  427. ,  1430.9,  2434.8,  3438.7,  4442.6,  5446.5,  6450.4,\n",
       "         7454.3,  8458.2,  9462.1, 10466. ]),\n",
       " <BarContainer object of 10 artists>)"
      ]
     },
     "execution_count": 26,
     "metadata": {},
     "output_type": "execute_result"
    },
    {
     "data": {
      "image/png": "[encoded data removed]",
      "text/plain": [
       "<Figure size 640x480 with 1 Axes>"
      ]
     },
     "metadata": {},
     "output_type": "display_data"
    }
   ],
   "source": [
    "plt.hist(boulder['SQFT'])"
   ]
  },
  {
   "cell_type": "code",
   "execution_count": 27,
   "id": "3d26ec93",
   "metadata": {},
   "outputs": [
    {
     "data": {
      "text/plain": [
       "(array([213.,   4.,   1.,   0.,   0.,   0.,   0.,   0.,   0.,   2.]),\n",
       " array([1.000000e+00, 1.543340e+05, 3.086670e+05, 4.630000e+05,\n",
       "        6.173330e+05, 7.716660e+05, 9.259990e+05, 1.080332e+06,\n",
       "        1.234665e+06, 1.388998e+06, 1.543331e+06]),\n",
       " <BarContainer object of 10 artists>)"
      ]
     },
     "execution_count": 27,
     "metadata": {},
     "output_type": "execute_result"
    },
    {
     "data": {
      "image/png": "[encoded data removed]",
      "text/plain": [
       "<Figure size 640x480 with 1 Axes>"
      ]
     },
     "metadata": {},
     "output_type": "display_data"
    }
   ],
   "source": [
    "plt.hist(boulder['LOT.SIZE'])"
   ]
  },
  {
   "cell_type": "code",
   "execution_count": 28,
   "id": "bbb579d7",
   "metadata": {},
   "outputs": [],
   "source": [
    "boulder = boulder[boulder['LOT.SIZE'] < 5e+05]"
   ]
  },
  {
   "cell_type": "code",
   "execution_count": 29,
   "id": "7905378b",
   "metadata": {},
   "outputs": [
    {
     "data": {
      "text/html": [
       "<div>\n",
       "<style scoped>\n",
       "    .dataframe tbody tr th:only-of-type {\n",
       "        vertical-align: middle;\n",
       "    }\n",
       "\n",
       "    .dataframe tbody tr th {\n",
       "        vertical-align: top;\n",
       "    }\n",
       "\n",
       "    .dataframe thead th {\n",
       "        text-align: right;\n",
       "    }\n",
       "</style>\n",
       "<table border=\"1\" class=\"dataframe\">\n",
       "  <thead>\n",
       "    <tr style=\"text-align: right;\">\n",
       "      <th></th>\n",
       "      <th>ADDRESS</th>\n",
       "      <th>ZIP</th>\n",
       "      <th>LIST.PRICE</th>\n",
       "      <th>BEDS</th>\n",
       "      <th>BATHS</th>\n",
       "      <th>SQFT</th>\n",
       "      <th>LOT.SIZE</th>\n",
       "      <th>YEAR.BUILT</th>\n",
       "      <th>PARKING.SPOTS</th>\n",
       "      <th>PARKING.TYPE</th>\n",
       "      <th>DAYS.ON.MARKET</th>\n",
       "      <th>LATITUDE</th>\n",
       "      <th>LONGITUDE</th>\n",
       "      <th>Condo/Coop</th>\n",
       "      <th>Single Family Residential</th>\n",
       "    </tr>\n",
       "  </thead>\n",
       "  <tbody>\n",
       "    <tr>\n",
       "      <th>0</th>\n",
       "      <td>1029 Paragon Dr</td>\n",
       "      <td>0</td>\n",
       "      <td>895000</td>\n",
       "      <td>4.0</td>\n",
       "      <td>2.50</td>\n",
       "      <td>3040.0</td>\n",
       "      <td>54886.0</td>\n",
       "      <td>1961.0</td>\n",
       "      <td>2</td>\n",
       "      <td>Garage</td>\n",
       "      <td>349</td>\n",
       "      <td>39.977175</td>\n",
       "      <td>-105.183189</td>\n",
       "      <td>0</td>\n",
       "      <td>1</td>\n",
       "    </tr>\n",
       "    <tr>\n",
       "      <th>1</th>\n",
       "      <td>300 S 68th St</td>\n",
       "      <td>0</td>\n",
       "      <td>659000</td>\n",
       "      <td>3.0</td>\n",
       "      <td>2.75</td>\n",
       "      <td>2920.0</td>\n",
       "      <td>38754.0</td>\n",
       "      <td>1966.0</td>\n",
       "      <td>2</td>\n",
       "      <td>Garage</td>\n",
       "      <td>81</td>\n",
       "      <td>39.980843</td>\n",
       "      <td>-105.193400</td>\n",
       "      <td>0</td>\n",
       "      <td>1</td>\n",
       "    </tr>\n",
       "    <tr>\n",
       "      <th>2</th>\n",
       "      <td>6881 Marshall Dr</td>\n",
       "      <td>0</td>\n",
       "      <td>1840000</td>\n",
       "      <td>4.0</td>\n",
       "      <td>3.25</td>\n",
       "      <td>3845.0</td>\n",
       "      <td>46609.0</td>\n",
       "      <td>2005.0</td>\n",
       "      <td>2</td>\n",
       "      <td>Garage</td>\n",
       "      <td>19</td>\n",
       "      <td>39.962634</td>\n",
       "      <td>-105.192832</td>\n",
       "      <td>0</td>\n",
       "      <td>1</td>\n",
       "    </tr>\n",
       "    <tr>\n",
       "      <th>5</th>\n",
       "      <td>4651 Eldorado Springs Dr</td>\n",
       "      <td>0</td>\n",
       "      <td>6499000</td>\n",
       "      <td>4.0</td>\n",
       "      <td>5.00</td>\n",
       "      <td>5588.0</td>\n",
       "      <td>223463.0</td>\n",
       "      <td>2008.0</td>\n",
       "      <td>3</td>\n",
       "      <td>Garage</td>\n",
       "      <td>116</td>\n",
       "      <td>39.947898</td>\n",
       "      <td>-105.245487</td>\n",
       "      <td>0</td>\n",
       "      <td>1</td>\n",
       "    </tr>\n",
       "    <tr>\n",
       "      <th>6</th>\n",
       "      <td>2255 Hillsdale Cir</td>\n",
       "      <td>1</td>\n",
       "      <td>1500000</td>\n",
       "      <td>4.0</td>\n",
       "      <td>3.50</td>\n",
       "      <td>3934.0</td>\n",
       "      <td>40864.0</td>\n",
       "      <td>2014.0</td>\n",
       "      <td>2</td>\n",
       "      <td>Garage</td>\n",
       "      <td>130</td>\n",
       "      <td>39.983040</td>\n",
       "      <td>-105.262619</td>\n",
       "      <td>0</td>\n",
       "      <td>1</td>\n",
       "    </tr>\n",
       "  </tbody>\n",
       "</table>\n",
       "</div>"
      ],
      "text/plain": [
       "                    ADDRESS  ZIP  LIST.PRICE  BEDS  BATHS    SQFT  LOT.SIZE  \\\n",
       "0           1029 Paragon Dr    0      895000   4.0   2.50  3040.0   54886.0   \n",
       "1             300 S 68th St    0      659000   3.0   2.75  2920.0   38754.0   \n",
       "2          6881 Marshall Dr    0     1840000   4.0   3.25  3845.0   46609.0   \n",
       "5  4651 Eldorado Springs Dr    0     6499000   4.0   5.00  5588.0  223463.0   \n",
       "6        2255 Hillsdale Cir    1     1500000   4.0   3.50  3934.0   40864.0   \n",
       "\n",
       "   YEAR.BUILT  PARKING.SPOTS PARKING.TYPE  DAYS.ON.MARKET   LATITUDE  \\\n",
       "0      1961.0              2       Garage             349  39.977175   \n",
       "1      1966.0              2       Garage              81  39.980843   \n",
       "2      2005.0              2       Garage              19  39.962634   \n",
       "5      2008.0              3       Garage             116  39.947898   \n",
       "6      2014.0              2       Garage             130  39.983040   \n",
       "\n",
       "    LONGITUDE  Condo/Coop  Single Family Residential  \n",
       "0 -105.183189           0                          1  \n",
       "1 -105.193400           0                          1  \n",
       "2 -105.192832           0                          1  \n",
       "5 -105.245487           0                          1  \n",
       "6 -105.262619           0                          1  "
      ]
     },
     "execution_count": 29,
     "metadata": {},
     "output_type": "execute_result"
    }
   ],
   "source": [
    "boulder.head()"
   ]
  },
  {
   "cell_type": "code",
   "execution_count": 30,
   "id": "709a6858",
   "metadata": {},
   "outputs": [],
   "source": [
    "boulder['PARKING.TYPE'].fillna(value = 'Missing', inplace = True)"
   ]
  },
  {
   "cell_type": "code",
   "execution_count": 31,
   "id": "47f516b4",
   "metadata": {},
   "outputs": [],
   "source": [
    "parkDum = pd.get_dummies(boulder['PARKING.TYPE'])"
   ]
  },
  {
   "cell_type": "code",
   "execution_count": 32,
   "id": "a4f9d291",
   "metadata": {},
   "outputs": [
    {
     "data": {
      "text/html": [
       "<div>\n",
       "<style scoped>\n",
       "    .dataframe tbody tr th:only-of-type {\n",
       "        vertical-align: middle;\n",
       "    }\n",
       "\n",
       "    .dataframe tbody tr th {\n",
       "        vertical-align: top;\n",
       "    }\n",
       "\n",
       "    .dataframe thead th {\n",
       "        text-align: right;\n",
       "    }\n",
       "</style>\n",
       "<table border=\"1\" class=\"dataframe\">\n",
       "  <thead>\n",
       "    <tr style=\"text-align: right;\">\n",
       "      <th></th>\n",
       "      <th>Garage</th>\n",
       "      <th>Missing</th>\n",
       "    </tr>\n",
       "  </thead>\n",
       "  <tbody>\n",
       "    <tr>\n",
       "      <th>0</th>\n",
       "      <td>1</td>\n",
       "      <td>0</td>\n",
       "    </tr>\n",
       "    <tr>\n",
       "      <th>1</th>\n",
       "      <td>1</td>\n",
       "      <td>0</td>\n",
       "    </tr>\n",
       "    <tr>\n",
       "      <th>2</th>\n",
       "      <td>1</td>\n",
       "      <td>0</td>\n",
       "    </tr>\n",
       "    <tr>\n",
       "      <th>5</th>\n",
       "      <td>1</td>\n",
       "      <td>0</td>\n",
       "    </tr>\n",
       "    <tr>\n",
       "      <th>6</th>\n",
       "      <td>1</td>\n",
       "      <td>0</td>\n",
       "    </tr>\n",
       "  </tbody>\n",
       "</table>\n",
       "</div>"
      ],
      "text/plain": [
       "   Garage  Missing\n",
       "0       1        0\n",
       "1       1        0\n",
       "2       1        0\n",
       "5       1        0\n",
       "6       1        0"
      ]
     },
     "execution_count": 32,
     "metadata": {},
     "output_type": "execute_result"
    }
   ],
   "source": [
    "parkDum.head()"
   ]
  },
  {
   "cell_type": "code",
   "execution_count": 33,
   "id": "81a9b410",
   "metadata": {},
   "outputs": [],
   "source": [
    "boulder.drop(columns = 'PARKING.TYPE', axis =1, inplace = True)"
   ]
  },
  {
   "cell_type": "code",
   "execution_count": 34,
   "id": "df5fcb17",
   "metadata": {},
   "outputs": [],
   "source": [
    "boulder = pd.concat([boulder, parkDum['Garage']], axis = 1)"
   ]
  },
  {
   "cell_type": "code",
   "execution_count": 35,
   "id": "cb508891",
   "metadata": {
    "scrolled": true
   },
   "outputs": [
    {
     "data": {
      "text/plain": [
       "(array([180.,  25.,  10.,   1.,   0.,   1.,   0.,   0.,   0.,   1.]),\n",
       " array([1.0000e+00, 1.3170e+02, 2.6240e+02, 3.9310e+02, 5.2380e+02,\n",
       "        6.5450e+02, 7.8520e+02, 9.1590e+02, 1.0466e+03, 1.1773e+03,\n",
       "        1.3080e+03]),\n",
       " <BarContainer object of 10 artists>)"
      ]
     },
     "execution_count": 35,
     "metadata": {},
     "output_type": "execute_result"
    },
    {
     "data": {
      "image/png": "[encoded data removed]",
      "text/plain": [
       "<Figure size 640x480 with 1 Axes>"
      ]
     },
     "metadata": {},
     "output_type": "display_data"
    }
   ],
   "source": [
    "plt.hist(boulder['DAYS.ON.MARKET'])"
   ]
  },
  {
   "cell_type": "code",
   "execution_count": 36,
   "id": "24f10b81",
   "metadata": {},
   "outputs": [
    {
     "data": {
      "text/plain": [
       "ADDRESS                      0\n",
       "ZIP                          0\n",
       "LIST.PRICE                   0\n",
       "BEDS                         0\n",
       "BATHS                        0\n",
       "SQFT                         0\n",
       "LOT.SIZE                     0\n",
       "YEAR.BUILT                   0\n",
       "PARKING.SPOTS                0\n",
       "DAYS.ON.MARKET               0\n",
       "LATITUDE                     0\n",
       "LONGITUDE                    0\n",
       "Condo/Coop                   0\n",
       "Single Family Residential    0\n",
       "Garage                       0\n",
       "dtype: int64"
      ]
     },
     "execution_count": 36,
     "metadata": {},
     "output_type": "execute_result"
    }
   ],
   "source": [
    "boulder.isna().sum()"
   ]
  },
  {
   "cell_type": "code",
   "execution_count": 37,
   "id": "edf1b7b4",
   "metadata": {
    "scrolled": false
   },
   "outputs": [
    {
     "data": {
      "text/html": [
       "<div>\n",
       "<style scoped>\n",
       "    .dataframe tbody tr th:only-of-type {\n",
       "        vertical-align: middle;\n",
       "    }\n",
       "\n",
       "    .dataframe tbody tr th {\n",
       "        vertical-align: top;\n",
       "    }\n",
       "\n",
       "    .dataframe thead th {\n",
       "        text-align: right;\n",
       "    }\n",
       "</style>\n",
       "<table border=\"1\" class=\"dataframe\">\n",
       "  <thead>\n",
       "    <tr style=\"text-align: right;\">\n",
       "      <th></th>\n",
       "      <th>ADDRESS</th>\n",
       "      <th>ZIP</th>\n",
       "      <th>LIST.PRICE</th>\n",
       "      <th>BEDS</th>\n",
       "      <th>BATHS</th>\n",
       "      <th>SQFT</th>\n",
       "      <th>LOT.SIZE</th>\n",
       "      <th>YEAR.BUILT</th>\n",
       "      <th>PARKING.SPOTS</th>\n",
       "      <th>DAYS.ON.MARKET</th>\n",
       "      <th>LATITUDE</th>\n",
       "      <th>LONGITUDE</th>\n",
       "      <th>Condo/Coop</th>\n",
       "      <th>Single Family Residential</th>\n",
       "      <th>Garage</th>\n",
       "    </tr>\n",
       "  </thead>\n",
       "  <tbody>\n",
       "    <tr>\n",
       "      <th>0</th>\n",
       "      <td>1029 Paragon Dr</td>\n",
       "      <td>0</td>\n",
       "      <td>895000</td>\n",
       "      <td>4.0</td>\n",
       "      <td>2.50</td>\n",
       "      <td>3040.0</td>\n",
       "      <td>54886.0</td>\n",
       "      <td>1961.0</td>\n",
       "      <td>2</td>\n",
       "      <td>349</td>\n",
       "      <td>39.977175</td>\n",
       "      <td>-105.183189</td>\n",
       "      <td>0</td>\n",
       "      <td>1</td>\n",
       "      <td>1</td>\n",
       "    </tr>\n",
       "    <tr>\n",
       "      <th>1</th>\n",
       "      <td>300 S 68th St</td>\n",
       "      <td>0</td>\n",
       "      <td>659000</td>\n",
       "      <td>3.0</td>\n",
       "      <td>2.75</td>\n",
       "      <td>2920.0</td>\n",
       "      <td>38754.0</td>\n",
       "      <td>1966.0</td>\n",
       "      <td>2</td>\n",
       "      <td>81</td>\n",
       "      <td>39.980843</td>\n",
       "      <td>-105.193400</td>\n",
       "      <td>0</td>\n",
       "      <td>1</td>\n",
       "      <td>1</td>\n",
       "    </tr>\n",
       "    <tr>\n",
       "      <th>2</th>\n",
       "      <td>6881 Marshall Dr</td>\n",
       "      <td>0</td>\n",
       "      <td>1840000</td>\n",
       "      <td>4.0</td>\n",
       "      <td>3.25</td>\n",
       "      <td>3845.0</td>\n",
       "      <td>46609.0</td>\n",
       "      <td>2005.0</td>\n",
       "      <td>2</td>\n",
       "      <td>19</td>\n",
       "      <td>39.962634</td>\n",
       "      <td>-105.192832</td>\n",
       "      <td>0</td>\n",
       "      <td>1</td>\n",
       "      <td>1</td>\n",
       "    </tr>\n",
       "    <tr>\n",
       "      <th>5</th>\n",
       "      <td>4651 Eldorado Springs Dr</td>\n",
       "      <td>0</td>\n",
       "      <td>6499000</td>\n",
       "      <td>4.0</td>\n",
       "      <td>5.00</td>\n",
       "      <td>5588.0</td>\n",
       "      <td>223463.0</td>\n",
       "      <td>2008.0</td>\n",
       "      <td>3</td>\n",
       "      <td>116</td>\n",
       "      <td>39.947898</td>\n",
       "      <td>-105.245487</td>\n",
       "      <td>0</td>\n",
       "      <td>1</td>\n",
       "      <td>1</td>\n",
       "    </tr>\n",
       "    <tr>\n",
       "      <th>6</th>\n",
       "      <td>2255 Hillsdale Cir</td>\n",
       "      <td>1</td>\n",
       "      <td>1500000</td>\n",
       "      <td>4.0</td>\n",
       "      <td>3.50</td>\n",
       "      <td>3934.0</td>\n",
       "      <td>40864.0</td>\n",
       "      <td>2014.0</td>\n",
       "      <td>2</td>\n",
       "      <td>130</td>\n",
       "      <td>39.983040</td>\n",
       "      <td>-105.262619</td>\n",
       "      <td>0</td>\n",
       "      <td>1</td>\n",
       "      <td>1</td>\n",
       "    </tr>\n",
       "  </tbody>\n",
       "</table>\n",
       "</div>"
      ],
      "text/plain": [
       "                    ADDRESS  ZIP  LIST.PRICE  BEDS  BATHS    SQFT  LOT.SIZE  \\\n",
       "0           1029 Paragon Dr    0      895000   4.0   2.50  3040.0   54886.0   \n",
       "1             300 S 68th St    0      659000   3.0   2.75  2920.0   38754.0   \n",
       "2          6881 Marshall Dr    0     1840000   4.0   3.25  3845.0   46609.0   \n",
       "5  4651 Eldorado Springs Dr    0     6499000   4.0   5.00  5588.0  223463.0   \n",
       "6        2255 Hillsdale Cir    1     1500000   4.0   3.50  3934.0   40864.0   \n",
       "\n",
       "   YEAR.BUILT  PARKING.SPOTS  DAYS.ON.MARKET   LATITUDE   LONGITUDE  \\\n",
       "0      1961.0              2             349  39.977175 -105.183189   \n",
       "1      1966.0              2              81  39.980843 -105.193400   \n",
       "2      2005.0              2              19  39.962634 -105.192832   \n",
       "5      2008.0              3             116  39.947898 -105.245487   \n",
       "6      2014.0              2             130  39.983040 -105.262619   \n",
       "\n",
       "   Condo/Coop  Single Family Residential  Garage  \n",
       "0           0                          1       1  \n",
       "1           0                          1       1  \n",
       "2           0                          1       1  \n",
       "5           0                          1       1  \n",
       "6           0                          1       1  "
      ]
     },
     "execution_count": 37,
     "metadata": {},
     "output_type": "execute_result"
    }
   ],
   "source": [
    "boulder.head()"
   ]
  },
  {
   "cell_type": "code",
   "execution_count": 38,
   "id": "5bb56d2f",
   "metadata": {},
   "outputs": [
    {
     "data": {
      "text/plain": [
       "(218, 15)"
      ]
     },
     "execution_count": 38,
     "metadata": {},
     "output_type": "execute_result"
    }
   ],
   "source": [
    "boulder.shape"
   ]
  },
  {
   "cell_type": "code",
   "execution_count": 39,
   "id": "61ba46c6",
   "metadata": {},
   "outputs": [],
   "source": [
    "scaledPrice = []\n",
    "for i in boulder['LIST.PRICE']:\n",
    "    listScale = i / 1000\n",
    "    scaledPrice.append(listScale)\n",
    "boulder['LIST.PRICE'] = scaledPrice"
   ]
  },
  {
   "cell_type": "code",
   "execution_count": 40,
   "id": "d3de7bd6",
   "metadata": {},
   "outputs": [],
   "source": [
    "from sklearn.linear_model import LinearRegression\n",
    "from sklearn.metrics import mean_squared_error"
   ]
  },
  {
   "cell_type": "code",
   "execution_count": 41,
   "id": "7205efb6",
   "metadata": {},
   "outputs": [],
   "source": [
    "from sklearn.model_selection import train_test_split"
   ]
  },
  {
   "cell_type": "code",
   "execution_count": 42,
   "id": "86673633",
   "metadata": {},
   "outputs": [],
   "source": [
    "from sklearn.preprocessing import StandardScaler"
   ]
  },
  {
   "cell_type": "code",
   "execution_count": 43,
   "id": "b06956a2",
   "metadata": {},
   "outputs": [],
   "source": [
    "X = boulder.drop(['LIST.PRICE', 'ADDRESS'], axis=1)\n",
    "y = boulder['LIST.PRICE']\n",
    "\n",
    "X_train, X_test, y_train, y_test = train_test_split(X, y, train_size=0.8, random_state=0)"
   ]
  },
  {
   "cell_type": "code",
   "execution_count": 44,
   "id": "32554279",
   "metadata": {},
   "outputs": [
    {
     "name": "stdout",
     "output_type": "stream",
     "text": [
      "score: 0.789057370731484\n",
      "mse: 332042.64436669636\n"
     ]
    }
   ],
   "source": [
    "lr = LinearRegression()\n",
    "pred = lr.fit(X_train, y_train).predict(X_test)\n",
    "print(f\"score: {lr.score(X_test, y_test)}\")\n",
    "print(f\"mse: {mean_squared_error(y_test, pred)}\")"
   ]
  },
  {
   "cell_type": "code",
   "execution_count": 45,
   "id": "38a1b5bb",
   "metadata": {},
   "outputs": [
    {
     "data": {
      "text/plain": [
       "576.2314156367182"
      ]
     },
     "execution_count": 45,
     "metadata": {},
     "output_type": "execute_result"
    }
   ],
   "source": [
    "(mean_squared_error(y_test, pred))**(1/2)"
   ]
  },
  {
   "cell_type": "code",
   "execution_count": 46,
   "id": "7eff0fa9",
   "metadata": {},
   "outputs": [],
   "source": [
    "from sklearn.tree import DecisionTreeRegressor, export_graphviz\n",
    "from sklearn.ensemble import RandomForestRegressor, GradientBoostingRegressor"
   ]
  },
  {
   "cell_type": "code",
   "execution_count": 47,
   "id": "634ea50c",
   "metadata": {},
   "outputs": [
    {
     "data": {
      "text/html": [
       "<style>#sk-container-id-1 {color: black;background-color: white;}#sk-container-id-1 pre{padding: 0;}#sk-container-id-1 div.sk-toggleable {background-color: white;}#sk-container-id-1 label.sk-toggleable__label {cursor: pointer;display: block;width: 100%;margin-bottom: 0;padding: 0.3em;box-sizing: border-box;text-align: center;}#sk-container-id-1 label.sk-toggleable__label-arrow:before {content: \"▸\";float: left;margin-right: 0.25em;color: #696969;}#sk-container-id-1 label.sk-toggleable__label-arrow:hover:before {color: black;}#sk-container-id-1 div.sk-estimator:hover label.sk-toggleable__label-arrow:before {color: black;}#sk-container-id-1 div.sk-toggleable__content {max-height: 0;max-width: 0;overflow: hidden;text-align: left;background-color: #f0f8ff;}#sk-container-id-1 div.sk-toggleable__content pre {margin: 0.2em;color: black;border-radius: 0.25em;background-color: #f0f8ff;}#sk-container-id-1 input.sk-toggleable__control:checked~div.sk-toggleable__content {max-height: 200px;max-width: 100%;overflow: auto;}#sk-container-id-1 input.sk-toggleable__control:checked~label.sk-toggleable__label-arrow:before {content: \"▾\";}#sk-container-id-1 div.sk-estimator input.sk-toggleable__control:checked~label.sk-toggleable__label {background-color: #d4ebff;}#sk-container-id-1 div.sk-label input.sk-toggleable__control:checked~label.sk-toggleable__label {background-color: #d4ebff;}#sk-container-id-1 input.sk-hidden--visually {border: 0;clip: rect(1px 1px 1px 1px);clip: rect(1px, 1px, 1px, 1px);height: 1px;margin: -1px;overflow: hidden;padding: 0;position: absolute;width: 1px;}#sk-container-id-1 div.sk-estimator {font-family: monospace;background-color: #f0f8ff;border: 1px dotted black;border-radius: 0.25em;box-sizing: border-box;margin-bottom: 0.5em;}#sk-container-id-1 div.sk-estimator:hover {background-color: #d4ebff;}#sk-container-id-1 div.sk-parallel-item::after {content: \"\";width: 100%;border-bottom: 1px solid gray;flex-grow: 1;}#sk-container-id-1 div.sk-label:hover label.sk-toggleable__label {background-color: #d4ebff;}#sk-container-id-1 div.sk-serial::before {content: \"\";position: absolute;border-left: 1px solid gray;box-sizing: border-box;top: 0;bottom: 0;left: 50%;z-index: 0;}#sk-container-id-1 div.sk-serial {display: flex;flex-direction: column;align-items: center;background-color: white;padding-right: 0.2em;padding-left: 0.2em;position: relative;}#sk-container-id-1 div.sk-item {position: relative;z-index: 1;}#sk-container-id-1 div.sk-parallel {display: flex;align-items: stretch;justify-content: center;background-color: white;position: relative;}#sk-container-id-1 div.sk-item::before, #sk-container-id-1 div.sk-parallel-item::before {content: \"\";position: absolute;border-left: 1px solid gray;box-sizing: border-box;top: 0;bottom: 0;left: 50%;z-index: -1;}#sk-container-id-1 div.sk-parallel-item {display: flex;flex-direction: column;z-index: 1;position: relative;background-color: white;}#sk-container-id-1 div.sk-parallel-item:first-child::after {align-self: flex-end;width: 50%;}#sk-container-id-1 div.sk-parallel-item:last-child::after {align-self: flex-start;width: 50%;}#sk-container-id-1 div.sk-parallel-item:only-child::after {width: 0;}#sk-container-id-1 div.sk-dashed-wrapped {border: 1px dashed gray;margin: 0 0.4em 0.5em 0.4em;box-sizing: border-box;padding-bottom: 0.4em;background-color: white;}#sk-container-id-1 div.sk-label label {font-family: monospace;font-weight: bold;display: inline-block;line-height: 1.2em;}#sk-container-id-1 div.sk-label-container {text-align: center;}#sk-container-id-1 div.sk-container {/* jupyter's `normalize.less` sets `[hidden] { display: none; }` but bootstrap.min.css set `[hidden] { display: none !important; }` so we also need the `!important` here to be able to override the default hidden behavior on the sphinx rendered scikit-learn.org. See: https://github.com/scikit-learn/scikit-learn/issues/21755 */display: inline-block !important;position: relative;}#sk-container-id-1 div.sk-text-repr-fallback {display: none;}</style><div id=\"sk-container-id-1\" class=\"sk-top-container\"><div class=\"sk-text-repr-fallback\"><pre>DecisionTreeRegressor(max_depth=2)</pre><b>In a Jupyter environment, please rerun this cell to show the HTML representation or trust the notebook. <br />On GitHub, the HTML representation is unable to render, please try loading this page with nbviewer.org.</b></div><div class=\"sk-container\" hidden><div class=\"sk-item\"><div class=\"sk-estimator sk-toggleable\"><input class=\"sk-toggleable__control sk-hidden--visually\" id=\"sk-estimator-id-1\" type=\"checkbox\" checked><label for=\"sk-estimator-id-1\" class=\"sk-toggleable__label sk-toggleable__label-arrow\">DecisionTreeRegressor</label><div class=\"sk-toggleable__content\"><pre>DecisionTreeRegressor(max_depth=2)</pre></div></div></div></div></div>"
      ],
      "text/plain": [
       "DecisionTreeRegressor(max_depth=2)"
      ]
     },
     "execution_count": 47,
     "metadata": {},
     "output_type": "execute_result"
    }
   ],
   "source": [
    "regr = DecisionTreeRegressor(max_depth=2)\n",
    "regr.fit(X_train, y_train)"
   ]
  },
  {
   "cell_type": "code",
   "execution_count": 48,
   "id": "21ffb5f7",
   "metadata": {
    "scrolled": false
   },
   "outputs": [
    {
     "name": "stdout",
     "output_type": "stream",
     "text": [
      "score: 0.23678275439370244\n",
      "mse: 1201372.4932516776\n"
     ]
    },
    {
     "data": {
      "image/png": "[encoded data removed]",
      "text/plain": [
       "<Figure size 640x480 with 1 Axes>"
      ]
     },
     "metadata": {},
     "output_type": "display_data"
    }
   ],
   "source": [
    "pred = regr.predict(X_test)\n",
    "\n",
    "plt.scatter(pred, y_test, label='medv')\n",
    "plt.plot([0, 1], [0, 1], '--k', transform=plt.gca().transAxes)\n",
    "plt.xlabel('pred')\n",
    "plt.ylabel('y_test')\n",
    "\n",
    "print(f\"score: {regr.score(X_test, y_test)}\")\n",
    "print(f\"mse: {mean_squared_error(y_test, pred)}\")"
   ]
  },
  {
   "cell_type": "code",
   "execution_count": 49,
   "id": "7949c380",
   "metadata": {},
   "outputs": [
    {
     "data": {
      "text/plain": [
       "1096.071390581689"
      ]
     },
     "execution_count": 49,
     "metadata": {},
     "output_type": "execute_result"
    }
   ],
   "source": [
    "(mean_squared_error(y_test, pred))**(1/2)"
   ]
  },
  {
   "cell_type": "code",
   "execution_count": 50,
   "id": "231b056d",
   "metadata": {},
   "outputs": [
    {
     "data": {
      "text/html": [
       "<style>#sk-container-id-2 {color: black;background-color: white;}#sk-container-id-2 pre{padding: 0;}#sk-container-id-2 div.sk-toggleable {background-color: white;}#sk-container-id-2 label.sk-toggleable__label {cursor: pointer;display: block;width: 100%;margin-bottom: 0;padding: 0.3em;box-sizing: border-box;text-align: center;}#sk-container-id-2 label.sk-toggleable__label-arrow:before {content: \"▸\";float: left;margin-right: 0.25em;color: #696969;}#sk-container-id-2 label.sk-toggleable__label-arrow:hover:before {color: black;}#sk-container-id-2 div.sk-estimator:hover label.sk-toggleable__label-arrow:before {color: black;}#sk-container-id-2 div.sk-toggleable__content {max-height: 0;max-width: 0;overflow: hidden;text-align: left;background-color: #f0f8ff;}#sk-container-id-2 div.sk-toggleable__content pre {margin: 0.2em;color: black;border-radius: 0.25em;background-color: #f0f8ff;}#sk-container-id-2 input.sk-toggleable__control:checked~div.sk-toggleable__content {max-height: 200px;max-width: 100%;overflow: auto;}#sk-container-id-2 input.sk-toggleable__control:checked~label.sk-toggleable__label-arrow:before {content: \"▾\";}#sk-container-id-2 div.sk-estimator input.sk-toggleable__control:checked~label.sk-toggleable__label {background-color: #d4ebff;}#sk-container-id-2 div.sk-label input.sk-toggleable__control:checked~label.sk-toggleable__label {background-color: #d4ebff;}#sk-container-id-2 input.sk-hidden--visually {border: 0;clip: rect(1px 1px 1px 1px);clip: rect(1px, 1px, 1px, 1px);height: 1px;margin: -1px;overflow: hidden;padding: 0;position: absolute;width: 1px;}#sk-container-id-2 div.sk-estimator {font-family: monospace;background-color: #f0f8ff;border: 1px dotted black;border-radius: 0.25em;box-sizing: border-box;margin-bottom: 0.5em;}#sk-container-id-2 div.sk-estimator:hover {background-color: #d4ebff;}#sk-container-id-2 div.sk-parallel-item::after {content: \"\";width: 100%;border-bottom: 1px solid gray;flex-grow: 1;}#sk-container-id-2 div.sk-label:hover label.sk-toggleable__label {background-color: #d4ebff;}#sk-container-id-2 div.sk-serial::before {content: \"\";position: absolute;border-left: 1px solid gray;box-sizing: border-box;top: 0;bottom: 0;left: 50%;z-index: 0;}#sk-container-id-2 div.sk-serial {display: flex;flex-direction: column;align-items: center;background-color: white;padding-right: 0.2em;padding-left: 0.2em;position: relative;}#sk-container-id-2 div.sk-item {position: relative;z-index: 1;}#sk-container-id-2 div.sk-parallel {display: flex;align-items: stretch;justify-content: center;background-color: white;position: relative;}#sk-container-id-2 div.sk-item::before, #sk-container-id-2 div.sk-parallel-item::before {content: \"\";position: absolute;border-left: 1px solid gray;box-sizing: border-box;top: 0;bottom: 0;left: 50%;z-index: -1;}#sk-container-id-2 div.sk-parallel-item {display: flex;flex-direction: column;z-index: 1;position: relative;background-color: white;}#sk-container-id-2 div.sk-parallel-item:first-child::after {align-self: flex-end;width: 50%;}#sk-container-id-2 div.sk-parallel-item:last-child::after {align-self: flex-start;width: 50%;}#sk-container-id-2 div.sk-parallel-item:only-child::after {width: 0;}#sk-container-id-2 div.sk-dashed-wrapped {border: 1px dashed gray;margin: 0 0.4em 0.5em 0.4em;box-sizing: border-box;padding-bottom: 0.4em;background-color: white;}#sk-container-id-2 div.sk-label label {font-family: monospace;font-weight: bold;display: inline-block;line-height: 1.2em;}#sk-container-id-2 div.sk-label-container {text-align: center;}#sk-container-id-2 div.sk-container {/* jupyter's `normalize.less` sets `[hidden] { display: none; }` but bootstrap.min.css set `[hidden] { display: none !important; }` so we also need the `!important` here to be able to override the default hidden behavior on the sphinx rendered scikit-learn.org. See: https://github.com/scikit-learn/scikit-learn/issues/21755 */display: inline-block !important;position: relative;}#sk-container-id-2 div.sk-text-repr-fallback {display: none;}</style><div id=\"sk-container-id-2\" class=\"sk-top-container\"><div class=\"sk-text-repr-fallback\"><pre>RandomForestRegressor(max_features=15, random_state=1)</pre><b>In a Jupyter environment, please rerun this cell to show the HTML representation or trust the notebook. <br />On GitHub, the HTML representation is unable to render, please try loading this page with nbviewer.org.</b></div><div class=\"sk-container\" hidden><div class=\"sk-item\"><div class=\"sk-estimator sk-toggleable\"><input class=\"sk-toggleable__control sk-hidden--visually\" id=\"sk-estimator-id-2\" type=\"checkbox\" checked><label for=\"sk-estimator-id-2\" class=\"sk-toggleable__label sk-toggleable__label-arrow\">RandomForestRegressor</label><div class=\"sk-toggleable__content\"><pre>RandomForestRegressor(max_features=15, random_state=1)</pre></div></div></div></div></div>"
      ],
      "text/plain": [
       "RandomForestRegressor(max_features=15, random_state=1)"
      ]
     },
     "execution_count": 50,
     "metadata": {},
     "output_type": "execute_result"
    }
   ],
   "source": [
    "# Bagging: using all features\n",
    "regr1 = RandomForestRegressor(max_features=15, random_state=1)\n",
    "regr1.fit(X_train, y_train)"
   ]
  },
  {
   "cell_type": "code",
   "execution_count": 51,
   "id": "20603518",
   "metadata": {},
   "outputs": [
    {
     "name": "stdout",
     "output_type": "stream",
     "text": [
      "score: 0.6981895044552301\n",
      "mse: 475076.8272198916\n"
     ]
    },
    {
     "data": {
      "image/png": "[encoded data removed]",
      "text/plain": [
       "<Figure size 640x480 with 1 Axes>"
      ]
     },
     "metadata": {},
     "output_type": "display_data"
    }
   ],
   "source": [
    "pred = regr1.predict(X_test)\n",
    "plt.scatter(pred, y_test, label='medv')\n",
    "plt.plot([0, 1], [0, 1], '--k', transform=plt.gca().transAxes)\n",
    "plt.xlabel('pred')\n",
    "plt.ylabel('y_test')\n",
    "print(f\"score: {regr1.score(X_test, y_test)}\")\n",
    "print(f\"mse: {mean_squared_error(y_test, pred)}\")"
   ]
  },
  {
   "cell_type": "code",
   "execution_count": 52,
   "id": "0d275e15",
   "metadata": {},
   "outputs": [
    {
     "name": "stdout",
     "output_type": "stream",
     "text": [
      "score: 0.6699875471465702\n",
      "mse: 519469.24099398963\n"
     ]
    }
   ],
   "source": [
    "# Random forests: using 6 features\n",
    "regr2 = RandomForestRegressor(max_features=6, random_state=1)\n",
    "regr2.fit(X_train, y_train)\n",
    "\n",
    "pred = regr2.predict(X_test)\n",
    "print(f\"score: {regr2.score(X_test, y_test)}\")\n",
    "print(f\"mse: {mean_squared_error(y_test, pred)}\")"
   ]
  },
  {
   "cell_type": "code",
   "execution_count": 53,
   "id": "7b227947",
   "metadata": {},
   "outputs": [
    {
     "data": {
      "image/png": "[encoded data removed]",
      "text/plain": [
       "<Figure size 640x480 with 1 Axes>"
      ]
     },
     "metadata": {},
     "output_type": "display_data"
    }
   ],
   "source": [
    "Importance = pd.DataFrame({'Importance':regr2.feature_importances_*100}, index=X.columns)\n",
    "Importance.sort_values(by='Importance', axis=0, ascending=True).plot(kind='barh', color='r', )\n",
    "plt.xlabel('Variable Importance')\n",
    "plt.gca().legend_ = None"
   ]
  },
  {
   "cell_type": "code",
   "execution_count": 54,
   "id": "970a6ae3",
   "metadata": {},
   "outputs": [
    {
     "name": "stdout",
     "output_type": "stream",
     "text": [
      "score: 0.645707362274812\n",
      "mse: 557688.4327168175\n"
     ]
    }
   ],
   "source": [
    "# Random forests: using 3 features\n",
    "regr3 = RandomForestRegressor(max_features=4, random_state=1)\n",
    "regr3.fit(X_train, y_train)\n",
    "\n",
    "pred = regr3.predict(X_test)\n",
    "print(f\"score: {regr3.score(X_test, y_test)}\")\n",
    "print(f\"mse: {mean_squared_error(y_test, pred)}\")"
   ]
  },
  {
   "cell_type": "code",
   "execution_count": 55,
   "id": "b3f55fcf",
   "metadata": {},
   "outputs": [
    {
     "data": {
      "image/png": "[encoded data removed]",
      "text/plain": [
       "<Figure size 640x480 with 1 Axes>"
      ]
     },
     "metadata": {},
     "output_type": "display_data"
    }
   ],
   "source": [
    "Importance = pd.DataFrame({'Importance':regr3.feature_importances_*100}, index=X.columns)\n",
    "Importance.sort_values(by='Importance', axis=0, ascending=True).plot(kind='barh', color='r', )\n",
    "plt.xlabel('Variable Importance')\n",
    "plt.gca().legend_ = None"
   ]
  },
  {
   "cell_type": "code",
   "execution_count": 56,
   "id": "5dbaa603",
   "metadata": {},
   "outputs": [
    {
     "data": {
      "text/html": [
       "<style>#sk-container-id-3 {color: black;background-color: white;}#sk-container-id-3 pre{padding: 0;}#sk-container-id-3 div.sk-toggleable {background-color: white;}#sk-container-id-3 label.sk-toggleable__label {cursor: pointer;display: block;width: 100%;margin-bottom: 0;padding: 0.3em;box-sizing: border-box;text-align: center;}#sk-container-id-3 label.sk-toggleable__label-arrow:before {content: \"▸\";float: left;margin-right: 0.25em;color: #696969;}#sk-container-id-3 label.sk-toggleable__label-arrow:hover:before {color: black;}#sk-container-id-3 div.sk-estimator:hover label.sk-toggleable__label-arrow:before {color: black;}#sk-container-id-3 div.sk-toggleable__content {max-height: 0;max-width: 0;overflow: hidden;text-align: left;background-color: #f0f8ff;}#sk-container-id-3 div.sk-toggleable__content pre {margin: 0.2em;color: black;border-radius: 0.25em;background-color: #f0f8ff;}#sk-container-id-3 input.sk-toggleable__control:checked~div.sk-toggleable__content {max-height: 200px;max-width: 100%;overflow: auto;}#sk-container-id-3 input.sk-toggleable__control:checked~label.sk-toggleable__label-arrow:before {content: \"▾\";}#sk-container-id-3 div.sk-estimator input.sk-toggleable__control:checked~label.sk-toggleable__label {background-color: #d4ebff;}#sk-container-id-3 div.sk-label input.sk-toggleable__control:checked~label.sk-toggleable__label {background-color: #d4ebff;}#sk-container-id-3 input.sk-hidden--visually {border: 0;clip: rect(1px 1px 1px 1px);clip: rect(1px, 1px, 1px, 1px);height: 1px;margin: -1px;overflow: hidden;padding: 0;position: absolute;width: 1px;}#sk-container-id-3 div.sk-estimator {font-family: monospace;background-color: #f0f8ff;border: 1px dotted black;border-radius: 0.25em;box-sizing: border-box;margin-bottom: 0.5em;}#sk-container-id-3 div.sk-estimator:hover {background-color: #d4ebff;}#sk-container-id-3 div.sk-parallel-item::after {content: \"\";width: 100%;border-bottom: 1px solid gray;flex-grow: 1;}#sk-container-id-3 div.sk-label:hover label.sk-toggleable__label {background-color: #d4ebff;}#sk-container-id-3 div.sk-serial::before {content: \"\";position: absolute;border-left: 1px solid gray;box-sizing: border-box;top: 0;bottom: 0;left: 50%;z-index: 0;}#sk-container-id-3 div.sk-serial {display: flex;flex-direction: column;align-items: center;background-color: white;padding-right: 0.2em;padding-left: 0.2em;position: relative;}#sk-container-id-3 div.sk-item {position: relative;z-index: 1;}#sk-container-id-3 div.sk-parallel {display: flex;align-items: stretch;justify-content: center;background-color: white;position: relative;}#sk-container-id-3 div.sk-item::before, #sk-container-id-3 div.sk-parallel-item::before {content: \"\";position: absolute;border-left: 1px solid gray;box-sizing: border-box;top: 0;bottom: 0;left: 50%;z-index: -1;}#sk-container-id-3 div.sk-parallel-item {display: flex;flex-direction: column;z-index: 1;position: relative;background-color: white;}#sk-container-id-3 div.sk-parallel-item:first-child::after {align-self: flex-end;width: 50%;}#sk-container-id-3 div.sk-parallel-item:last-child::after {align-self: flex-start;width: 50%;}#sk-container-id-3 div.sk-parallel-item:only-child::after {width: 0;}#sk-container-id-3 div.sk-dashed-wrapped {border: 1px dashed gray;margin: 0 0.4em 0.5em 0.4em;box-sizing: border-box;padding-bottom: 0.4em;background-color: white;}#sk-container-id-3 div.sk-label label {font-family: monospace;font-weight: bold;display: inline-block;line-height: 1.2em;}#sk-container-id-3 div.sk-label-container {text-align: center;}#sk-container-id-3 div.sk-container {/* jupyter's `normalize.less` sets `[hidden] { display: none; }` but bootstrap.min.css set `[hidden] { display: none !important; }` so we also need the `!important` here to be able to override the default hidden behavior on the sphinx rendered scikit-learn.org. See: https://github.com/scikit-learn/scikit-learn/issues/21755 */display: inline-block !important;position: relative;}#sk-container-id-3 div.sk-text-repr-fallback {display: none;}</style><div id=\"sk-container-id-3\" class=\"sk-top-container\"><div class=\"sk-text-repr-fallback\"><pre>GradientBoostingRegressor(learning_rate=0.01, n_estimators=500, random_state=1)</pre><b>In a Jupyter environment, please rerun this cell to show the HTML representation or trust the notebook. <br />On GitHub, the HTML representation is unable to render, please try loading this page with nbviewer.org.</b></div><div class=\"sk-container\" hidden><div class=\"sk-item\"><div class=\"sk-estimator sk-toggleable\"><input class=\"sk-toggleable__control sk-hidden--visually\" id=\"sk-estimator-id-3\" type=\"checkbox\" checked><label for=\"sk-estimator-id-3\" class=\"sk-toggleable__label sk-toggleable__label-arrow\">GradientBoostingRegressor</label><div class=\"sk-toggleable__content\"><pre>GradientBoostingRegressor(learning_rate=0.01, n_estimators=500, random_state=1)</pre></div></div></div></div></div>"
      ],
      "text/plain": [
       "GradientBoostingRegressor(learning_rate=0.01, n_estimators=500, random_state=1)"
      ]
     },
     "execution_count": 56,
     "metadata": {},
     "output_type": "execute_result"
    }
   ],
   "source": [
    "regrb = GradientBoostingRegressor(n_estimators=500, learning_rate=0.01, max_depth=3, random_state=1)\n",
    "regrb.fit(X_train, y_train)"
   ]
  },
  {
   "cell_type": "code",
   "execution_count": 57,
   "id": "80e9e641",
   "metadata": {},
   "outputs": [
    {
     "name": "stdout",
     "output_type": "stream",
     "text": [
      "score: 0.6058005595365611\n",
      "mse: 557688.4327168175\n"
     ]
    }
   ],
   "source": [
    "print(f\"score: {regrb.score(X_test, y_test)}\")\n",
    "print(f\"mse: {mean_squared_error(y_test, pred)}\")"
   ]
  },
  {
   "cell_type": "code",
   "execution_count": 58,
   "id": "a9fc5bae",
   "metadata": {},
   "outputs": [
    {
     "data": {
      "image/png": "[encoded data removed]",
      "text/plain": [
       "<Figure size 640x480 with 1 Axes>"
      ]
     },
     "metadata": {},
     "output_type": "display_data"
    }
   ],
   "source": [
    "Importance = pd.DataFrame({'Importance':regrb.feature_importances_*100}, index=X.columns)\n",
    "Importance.sort_values(by='Importance', axis=0, ascending=True).plot(kind='barh', color='r', )\n",
    "plt.xlabel('Variable Importance')\n",
    "plt.gca().legend_ = None"
   ]
  },
  {
   "cell_type": "code",
   "execution_count": 59,
   "id": "50a235b1",
   "metadata": {},
   "outputs": [
    {
     "data": {
      "text/plain": [
       "843251.3590427078"
      ]
     },
     "execution_count": 59,
     "metadata": {},
     "output_type": "execute_result"
    }
   ],
   "source": [
    "regrb2 = GradientBoostingRegressor(n_estimators=1000, learning_rate=0.01, max_depth=1, random_state=1)\n",
    "regrb2.fit(X_train, y_train)\n",
    "mean_squared_error(y_test, regrb2.predict(X_test))"
   ]
  },
  {
   "cell_type": "code",
   "execution_count": 60,
   "id": "6a5c6b99",
   "metadata": {},
   "outputs": [],
   "source": [
    "# Ridge"
   ]
  },
  {
   "cell_type": "code",
   "execution_count": 61,
   "id": "5bb37972",
   "metadata": {},
   "outputs": [
    {
     "data": {
      "text/plain": [
       "array([5.00000000e+09, 3.78231664e+09, 2.86118383e+09, 2.16438064e+09,\n",
       "       1.63727458e+09, 1.23853818e+09, 9.36908711e+08, 7.08737081e+08,\n",
       "       5.36133611e+08, 4.05565415e+08, 3.06795364e+08, 2.32079442e+08,\n",
       "       1.75559587e+08, 1.32804389e+08, 1.00461650e+08, 7.59955541e+07,\n",
       "       5.74878498e+07, 4.34874501e+07, 3.28966612e+07, 2.48851178e+07,\n",
       "       1.88246790e+07, 1.42401793e+07, 1.07721735e+07, 8.14875417e+06,\n",
       "       6.16423370e+06, 4.66301673e+06, 3.52740116e+06, 2.66834962e+06,\n",
       "       2.01850863e+06, 1.52692775e+06, 1.15506485e+06, 8.73764200e+05,\n",
       "       6.60970574e+05, 5.00000000e+05, 3.78231664e+05, 2.86118383e+05,\n",
       "       2.16438064e+05, 1.63727458e+05, 1.23853818e+05, 9.36908711e+04,\n",
       "       7.08737081e+04, 5.36133611e+04, 4.05565415e+04, 3.06795364e+04,\n",
       "       2.32079442e+04, 1.75559587e+04, 1.32804389e+04, 1.00461650e+04,\n",
       "       7.59955541e+03, 5.74878498e+03, 4.34874501e+03, 3.28966612e+03,\n",
       "       2.48851178e+03, 1.88246790e+03, 1.42401793e+03, 1.07721735e+03,\n",
       "       8.14875417e+02, 6.16423370e+02, 4.66301673e+02, 3.52740116e+02,\n",
       "       2.66834962e+02, 2.01850863e+02, 1.52692775e+02, 1.15506485e+02,\n",
       "       8.73764200e+01, 6.60970574e+01, 5.00000000e+01, 3.78231664e+01,\n",
       "       2.86118383e+01, 2.16438064e+01, 1.63727458e+01, 1.23853818e+01,\n",
       "       9.36908711e+00, 7.08737081e+00, 5.36133611e+00, 4.05565415e+00,\n",
       "       3.06795364e+00, 2.32079442e+00, 1.75559587e+00, 1.32804389e+00,\n",
       "       1.00461650e+00, 7.59955541e-01, 5.74878498e-01, 4.34874501e-01,\n",
       "       3.28966612e-01, 2.48851178e-01, 1.88246790e-01, 1.42401793e-01,\n",
       "       1.07721735e-01, 8.14875417e-02, 6.16423370e-02, 4.66301673e-02,\n",
       "       3.52740116e-02, 2.66834962e-02, 2.01850863e-02, 1.52692775e-02,\n",
       "       1.15506485e-02, 8.73764200e-03, 6.60970574e-03, 5.00000000e-03])"
      ]
     },
     "execution_count": 61,
     "metadata": {},
     "output_type": "execute_result"
    }
   ],
   "source": [
    "alphas = 10**np.linspace(10,-2,100)*0.5\n",
    "alphas"
   ]
  },
  {
   "cell_type": "code",
   "execution_count": 62,
   "id": "90af2cae",
   "metadata": {},
   "outputs": [],
   "source": [
    "from sklearn.preprocessing import StandardScaler\n",
    "from sklearn.linear_model import Ridge, RidgeCV, Lasso, LassoCV"
   ]
  },
  {
   "cell_type": "code",
   "execution_count": 63,
   "id": "13cb8d73",
   "metadata": {},
   "outputs": [
    {
     "data": {
      "text/plain": [
       "(100, 13)"
      ]
     },
     "execution_count": 63,
     "metadata": {},
     "output_type": "execute_result"
    }
   ],
   "source": [
    "scaler = StandardScaler()\n",
    "X = scaler.fit_transform(X)\n",
    "ridge = Ridge()\n",
    "coefs = []\n",
    "\n",
    "for a in alphas:\n",
    "    ridge.set_params(alpha=a)\n",
    "    ridge.fit(X, y)\n",
    "    coefs.append(ridge.coef_)\n",
    "    \n",
    "np.shape(coefs)"
   ]
  },
  {
   "cell_type": "code",
   "execution_count": 64,
   "id": "324fd6ae",
   "metadata": {},
   "outputs": [
    {
     "data": {
      "text/plain": [
       "0.7466593004746789"
      ]
     },
     "execution_count": 64,
     "metadata": {},
     "output_type": "execute_result"
    }
   ],
   "source": [
    "ridge.score(X, y)"
   ]
  },
  {
   "cell_type": "code",
   "execution_count": 65,
   "id": "8ea5f251",
   "metadata": {},
   "outputs": [
    {
     "data": {
      "text/plain": [
       "Text(0, 0.5, 'weights')"
      ]
     },
     "execution_count": 65,
     "metadata": {},
     "output_type": "execute_result"
    },
    {
     "data": {
      "image/png": "[encoded data removed]",
      "text/plain": [
       "<Figure size 640x480 with 1 Axes>"
      ]
     },
     "metadata": {},
     "output_type": "display_data"
    }
   ],
   "source": [
    "ax = plt.gca()\n",
    "ax.plot(alphas, coefs)\n",
    "ax.set_xscale('log')\n",
    "plt.axis('tight')\n",
    "plt.xlabel('alpha')\n",
    "plt.ylabel('weights')"
   ]
  },
  {
   "cell_type": "code",
   "execution_count": 74,
   "id": "0d93a6cc",
   "metadata": {},
   "outputs": [],
   "source": [
    "X_raw = boulder.drop(['LIST.PRICE', 'ADDRESS'], axis=1)\n",
    "y = boulder['LIST.PRICE']"
   ]
  },
  {
   "cell_type": "code",
   "execution_count": 75,
   "id": "100751b4",
   "metadata": {},
   "outputs": [],
   "source": [
    "X_train_raw, X_test_raw , y_train, y_test = train_test_split(X_raw, y, test_size=0.5, random_state=1)\n",
    "\n",
    "scaler = StandardScaler()\n",
    "X_train = scaler.fit_transform(X_train_raw)\n",
    "X_test = scaler.transform(X_test_raw)"
   ]
  },
  {
   "cell_type": "code",
   "execution_count": 76,
   "id": "1386df81",
   "metadata": {},
   "outputs": [
    {
     "name": "stdout",
     "output_type": "stream",
     "text": [
      "ZIP                          125.043371\n",
      "BEDS                          22.787920\n",
      "BATHS                         48.062505\n",
      "SQFT                         610.982316\n",
      "LOT.SIZE                     233.939893\n",
      "YEAR.BUILT                    36.492449\n",
      "PARKING.SPOTS                 20.996404\n",
      "DAYS.ON.MARKET                43.053482\n",
      "LATITUDE                    -400.769336\n",
      "LONGITUDE                   -274.009546\n",
      "Condo/Coop                    -0.756509\n",
      "Single Family Residential     -1.245482\n",
      "Garage                         5.411656\n",
      "dtype: float64\n",
      "344406.5723189703\n"
     ]
    }
   ],
   "source": [
    "ridge2 = Ridge(alpha=4)\n",
    "ridge2.fit(X_train, y_train)             \n",
    "pred2 = ridge2.predict(X_test)           \n",
    "print(pd.Series(ridge2.coef_, index=X_raw.columns)) \n",
    "print(mean_squared_error(y_test, pred2))        "
   ]
  },
  {
   "cell_type": "code",
   "execution_count": 81,
   "id": "fe96ca62",
   "metadata": {},
   "outputs": [
    {
     "name": "stdout",
     "output_type": "stream",
     "text": [
      "ZIP                          181.133467\n",
      "BEDS                          -6.496766\n",
      "BATHS                        -11.824102\n",
      "SQFT                         724.270058\n",
      "LOT.SIZE                     247.782820\n",
      "YEAR.BUILT                    46.780949\n",
      "PARKING.SPOTS                -10.991757\n",
      "DAYS.ON.MARKET                31.344930\n",
      "LATITUDE                    -453.010054\n",
      "LONGITUDE                   -276.345384\n",
      "Condo/Coop                    -9.560285\n",
      "Single Family Residential    -26.504948\n",
      "Garage                        13.810860\n",
      "dtype: float64\n",
      "337011.4356234004\n"
     ]
    }
   ],
   "source": [
    "ridge3 = Ridge(alpha=0)\n",
    "ridge3.fit(X_train, y_train)             \n",
    "pred3 = ridge3.predict(X_test)           \n",
    "print(pd.Series(ridge3.coef_, index=X_raw.columns)) \n",
    "print(mean_squared_error(y_test, pred3)) "
   ]
  },
  {
   "cell_type": "code",
   "execution_count": 82,
   "id": "f79e09c2",
   "metadata": {},
   "outputs": [
    {
     "data": {
      "text/plain": [
       "9.369087114301934"
      ]
     },
     "execution_count": 82,
     "metadata": {},
     "output_type": "execute_result"
    }
   ],
   "source": [
    "ridgecv = RidgeCV(alphas=alphas)\n",
    "ridgecv.fit(X_train, y_train)\n",
    "ridgecv.alpha_"
   ]
  },
  {
   "cell_type": "code",
   "execution_count": 83,
   "id": "eb7e3d63",
   "metadata": {},
   "outputs": [
    {
     "name": "stdout",
     "output_type": "stream",
     "text": [
      "ZIP                           81.760260\n",
      "BEDS                          43.386179\n",
      "BATHS                         91.091298\n",
      "SQFT                         522.058343\n",
      "LOT.SIZE                     220.595178\n",
      "YEAR.BUILT                    28.452007\n",
      "PARKING.SPOTS                 43.960631\n",
      "DAYS.ON.MARKET                52.955362\n",
      "LATITUDE                    -350.336628\n",
      "LONGITUDE                   -262.007688\n",
      "Condo/Coop                     0.041361\n",
      "Single Family Residential     14.554637\n",
      "Garage                        -0.098211\n",
      "dtype: float64\n",
      "356156.89158270444\n"
     ]
    }
   ],
   "source": [
    "pred = ridgecv.predict(X_test)            # Use this model to predict the test data\n",
    "print(pd.Series(ridgecv.coef_, index=X_raw.columns)) # Print coefficients\n",
    "print(mean_squared_error(y_test, pred))"
   ]
  },
  {
   "cell_type": "code",
   "execution_count": 84,
   "id": "f6c34cc2",
   "metadata": {},
   "outputs": [
    {
     "name": "stdout",
     "output_type": "stream",
     "text": [
      "337016.7766789986\n",
      "0.005\n"
     ]
    }
   ],
   "source": [
    "ridgeT = Ridge()\n",
    "scores = []\n",
    "scoremin = np.inf\n",
    "alphamin = 0\n",
    "for a in alphas:\n",
    "    ridgeT.set_params(alpha=a)\n",
    "    ridgeT.fit(X_train, y_train)\n",
    "    scores.append(mean_squared_error(y_test, ridgeT.predict(X_test)))\n",
    "    if scores[-1] < scoremin:\n",
    "        scoremin = scores[-1]\n",
    "        alphamin = a\n",
    "print(scoremin)\n",
    "print(alphamin)"
   ]
  },
  {
   "cell_type": "code",
   "execution_count": 85,
   "id": "38926fee",
   "metadata": {},
   "outputs": [
    {
     "data": {
      "text/plain": [
       "ZIP                           16.628456\n",
       "BEDS                        -126.728043\n",
       "BATHS                        -13.695013\n",
       "SQFT                         788.210190\n",
       "LOT.SIZE                     173.070716\n",
       "YEAR.BUILT                    24.412160\n",
       "PARKING.SPOTS                -24.618097\n",
       "DAYS.ON.MARKET                20.113150\n",
       "LATITUDE                    -253.434492\n",
       "LONGITUDE                   -275.024017\n",
       "Condo/Coop                   -15.833319\n",
       "Single Family Residential     11.118721\n",
       "Garage                       -14.950235\n",
       "dtype: float64"
      ]
     },
     "execution_count": 85,
     "metadata": {},
     "output_type": "execute_result"
    }
   ],
   "source": [
    "ridge5 = Ridge(alpha=ridgecv.alpha_)\n",
    "X_S = scaler.fit_transform(X_raw)\n",
    "ridge5.fit(X_S, y)\n",
    "pd.Series(ridge5.coef_, index=X_raw.columns)"
   ]
  },
  {
   "cell_type": "code",
   "execution_count": null,
   "id": "12572ef2",
   "metadata": {},
   "outputs": [],
   "source": [
    "# Lasso"
   ]
  },
  {
   "cell_type": "code",
   "execution_count": 86,
   "id": "7062480e",
   "metadata": {},
   "outputs": [
    {
     "data": {
      "text/plain": [
       "Text(0, 0.5, 'weights')"
      ]
     },
     "execution_count": 86,
     "metadata": {},
     "output_type": "execute_result"
    },
    {
     "data": {
      "image/png": "[encoded data removed]",
      "text/plain": [
       "<Figure size 640x480 with 1 Axes>"
      ]
     },
     "metadata": {},
     "output_type": "display_data"
    }
   ],
   "source": [
    "lasso = Lasso(max_iter=10000)\n",
    "coefs = []\n",
    "\n",
    "for a in alphas:\n",
    "    lasso.set_params(alpha=a)\n",
    "    lasso.fit(X_train, y_train)\n",
    "    coefs.append(lasso.coef_)\n",
    "    \n",
    "ax = plt.gca()\n",
    "ax.plot(alphas, coefs)\n",
    "ax.set_xscale('log')\n",
    "plt.axis('tight')\n",
    "plt.xlabel('alpha')\n",
    "plt.ylabel('weights')"
   ]
  },
  {
   "cell_type": "code",
   "execution_count": 87,
   "id": "176da1a2",
   "metadata": {},
   "outputs": [
    {
     "data": {
      "text/plain": [
       "314761.14724951645"
      ]
     },
     "execution_count": 87,
     "metadata": {},
     "output_type": "execute_result"
    }
   ],
   "source": [
    "lassocv = LassoCV(alphas=alphas, cv=10, max_iter=10000)\n",
    "lassocv.fit(X_train, y_train)\n",
    "\n",
    "mean_squared_error(y_test, lassocv.predict(X_test))"
   ]
  },
  {
   "cell_type": "code",
   "execution_count": 88,
   "id": "a5bde4d4",
   "metadata": {},
   "outputs": [
    {
     "data": {
      "text/plain": [
       "ZIP                           83.441603\n",
       "BEDS                          -0.000000\n",
       "BATHS                          3.857870\n",
       "SQFT                         688.517997\n",
       "LOT.SIZE                     223.620399\n",
       "YEAR.BUILT                    30.543629\n",
       "PARKING.SPOTS                  0.000000\n",
       "DAYS.ON.MARKET                29.305108\n",
       "LATITUDE                    -354.725130\n",
       "LONGITUDE                   -269.471047\n",
       "Condo/Coop                     0.000000\n",
       "Single Family Residential     -0.000000\n",
       "Garage                         0.000000\n",
       "dtype: float64"
      ]
     },
     "execution_count": 88,
     "metadata": {},
     "output_type": "execute_result"
    }
   ],
   "source": [
    "pd.Series(lassocv.coef_, index=X_raw.columns)"
   ]
  },
  {
   "cell_type": "code",
   "execution_count": 89,
   "id": "2918c741",
   "metadata": {},
   "outputs": [
    {
     "data": {
      "text/plain": [
       "ZIP                            0.000000\n",
       "BEDS                        -131.799215\n",
       "BATHS                         -5.369412\n",
       "SQFT                         819.142128\n",
       "LOT.SIZE                     160.663421\n",
       "YEAR.BUILT                     0.000000\n",
       "PARKING.SPOTS                -21.179786\n",
       "DAYS.ON.MARKET                 0.000000\n",
       "LATITUDE                    -230.639485\n",
       "LONGITUDE                   -264.024884\n",
       "Condo/Coop                    -0.000000\n",
       "Single Family Residential      0.000000\n",
       "Garage                        -5.720994\n",
       "dtype: float64"
      ]
     },
     "execution_count": 89,
     "metadata": {},
     "output_type": "execute_result"
    }
   ],
   "source": [
    "lasso1 = Lasso(alpha=lassocv.alpha_, max_iter=10000)\n",
    "# X_S = scaler.transform(X_raw)\n",
    "lasso1.fit(X_S, y)\n",
    "pd.Series(lasso1.coef_, index=X_raw.columns)"
   ]
  }
 ],
 "metadata": {
  "kernelspec": {
   "display_name": "Python 3 (ipykernel)",
   "language": "python",
   "name": "python3"
  },
  "language_info": {
   "codemirror_mode": {
    "name": "ipython",
    "version": 3
   },
   "file_extension": ".py",
   "mimetype": "text/x-python",
   "name": "python",
   "nbconvert_exporter": "python",
   "pygments_lexer": "ipython3",
   "version": "3.10.8"
  }
 },
 "nbformat": 4,
 "nbformat_minor": 5
}
